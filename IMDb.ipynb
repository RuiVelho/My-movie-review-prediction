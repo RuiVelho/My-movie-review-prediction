{
  "cells": [
    {
      "cell_type": "code",
      "execution_count": null,
      "metadata": {
        "id": "FqkPXtRGuqoJ"
      },
      "outputs": [],
      "source": [
        "!pip install langid\n",
        "\n",
        "import pandas as pd\n",
        "\n",
        "#Cleaning Titles\n",
        "import nltk\n",
        "from nltk.sentiment import SentimentIntensityAnalyzer\n",
        "from nltk.corpus.reader.wordnet import FreqDist\n",
        "from nltk.stem import \tWordNetLemmatizer\n",
        "from nltk.corpus import stopwords\n",
        "import string\n",
        "import re\n",
        "\n",
        "#select language\n",
        "import langid\n",
        "\n",
        "#Split model\n",
        "from sklearn.model_selection import train_test_split\n",
        "\n",
        "# Regression\n",
        "from sklearn.linear_model import LinearRegression\n",
        "from sklearn.metrics import mean_absolute_error\n",
        "from sklearn.metrics import mean_squared_error\n",
        "\n",
        "# Classification - is_expensive y/n\n",
        "from sklearn.linear_model import LogisticRegression\n",
        "from sklearn.neighbors import KNeighborsClassifier\n",
        "from sklearn.metrics import confusion_matrix, ConfusionMatrixDisplay\n",
        "from nltk.classify.decisiontree import DecisionTreeClassifier\n",
        "from sklearn import svm\n",
        "from sklearn.preprocessing import StandardScaler\n",
        "from sklearn.decomposition import PCA\n",
        "\n",
        "#from sklearn.linear_model import LogisticRegression\n",
        "#from sklearn.neighbors import KNeighborsClassifier\n",
        "#from sklearn.metrics import confusion_matrix, ConfusionMatrixDisplay\n",
        "\n",
        "# Unsupervised\n",
        "from sklearn.neighbors import NearestNeighbors\n",
        "\n",
        "# Standardization\n",
        "from sklearn.preprocessing import StandardScaler, MinMaxScaler\n",
        "\n",
        "# Cross Validation\n",
        "from sklearn.model_selection import cross_validate\n",
        "\n",
        "# Grid Search, Random Search\n",
        "from sklearn.pipeline import Pipeline\n",
        "from sklearn.model_selection import GridSearchCV, RandomizedSearchCV\n",
        "\n",
        "import seaborn as sns\n",
        "import matplotlib.pyplot as plt\n",
        "from wordcloud import WordCloud\n",
        "\n",
        "\n",
        "\n",
        "\n",
        "nltk.download('punkt')\n",
        "nltk.download('stopwords')\n",
        "nltk.download('wordnet')\n",
        "nltk.download('vader_lexicon')\n",
        "\n",
        "sia=SentimentIntensityAnalyzer()\n",
        "stop_words = nltk.corpus.stopwords.words('english')\n",
        "stop_words.remove('not')\n",
        "stop_words.extend(['mr.'])\n",
        "punctuation = string.punctuation  \n",
        "wordnet_lemmatizer = WordNetLemmatizer()"
      ]
    },
    {
      "cell_type": "markdown",
      "metadata": {
        "id": "Axlr54MvYTnx"
      },
      "source": [
        "#Data"
      ]
    },
    {
      "cell_type": "code",
      "execution_count": null,
      "metadata": {
        "id": "TZfVRiZ1uuqF"
      },
      "outputs": [],
      "source": [
        "#link1='https://datasets.imdbws.com/name.basics.tsv.gz'   #Check\n",
        "#name=pd.read_csv(link1, sep=\"\\t\", compression='gzip')\n",
        "#name\n"
      ]
    },
    {
      "cell_type": "code",
      "execution_count": null,
      "metadata": {
        "id": "2PW3mfN8vwBJ"
      },
      "outputs": [],
      "source": [
        "#link2='https://datasets.imdbws.com/title.akas.tsv.gz'\n",
        "#title_df=pd.read_csv(link2, sep=\"\\t\", compression='gzip')\n",
        "#title_df"
      ]
    },
    {
      "cell_type": "code",
      "execution_count": null,
      "metadata": {
        "id": "s58zIwed3WWW"
      },
      "outputs": [],
      "source": [
        "#title_df3[]"
      ]
    },
    {
      "cell_type": "code",
      "execution_count": null,
      "metadata": {
        "id": "FoUriljJxa8k"
      },
      "outputs": [],
      "source": [
        "#link4='https://datasets.imdbws.com/title.crew.tsv.gz'    #Check\n",
        "#title_df4=pd.read_csv(link4, sep=\"\\t\", compression='gzip')\n",
        "#title_df4"
      ]
    },
    {
      "cell_type": "code",
      "execution_count": null,
      "metadata": {
        "id": "Jvb48Dmhxv3b"
      },
      "outputs": [],
      "source": [
        "#link5='https://datasets.imdbws.com/title.episode.tsv.gz'    #check\n",
        "#title_df5=pd.read_csv(link5, sep=\"\\t\", compression='gzip')\n",
        "#title_df5"
      ]
    },
    {
      "cell_type": "code",
      "execution_count": null,
      "metadata": {
        "id": "a7gTkG4wx7ZS"
      },
      "outputs": [],
      "source": [
        "#link6='https://datasets.imdbws.com/title.principals.tsv.gz'\n",
        "#title_df6=pd.read_csv(link6, sep=\"\\t\", compression='gzip')\n",
        "#title_df6"
      ]
    },
    {
      "cell_type": "markdown",
      "metadata": {
        "id": "etl7lpD4C9eE"
      },
      "source": [
        "#Work from here"
      ]
    },
    {
      "cell_type": "code",
      "execution_count": null,
      "metadata": {
        "id": "LYlxEabAw_FV"
      },
      "outputs": [],
      "source": [
        "#link3='https://datasets.imdbws.com/title.basics.tsv.gz'    #Check\n",
        "#title_df3=pd.read_csv(link3, sep=\"\\t\", compression='gzip')\n",
        "#title_df3"
      ]
    },
    {
      "cell_type": "code",
      "execution_count": null,
      "metadata": {
        "id": "5Eg1x1flyZ77"
      },
      "outputs": [],
      "source": [
        "#link7='https://datasets.imdbws.com/title.ratings.tsv.gz'      #check\n",
        "#title_df7=pd.read_csv(link7, sep=\"\\t\", compression='gzip')\n",
        "#title_df7"
      ]
    },
    {
      "cell_type": "code",
      "execution_count": null,
      "metadata": {
        "id": "xzUHzsCQ5ICb"
      },
      "outputs": [],
      "source": [
        "#movies_rat=title_df3.merge(title_df7,left_on='tconst', right_on='tconst')"
      ]
    },
    {
      "cell_type": "code",
      "execution_count": null,
      "metadata": {
        "id": "B4uJxu7bEgd3"
      },
      "outputs": [],
      "source": [
        "#movies_rat=movies_rat.dropna()"
      ]
    },
    {
      "cell_type": "code",
      "execution_count": null,
      "metadata": {
        "id": "fWcwG00gJPQW"
      },
      "outputs": [],
      "source": [
        "#movies_rat['numVotes'].sum()\n",
        "#(7804*100)/1360483912"
      ]
    },
    {
      "cell_type": "code",
      "execution_count": null,
      "metadata": {
        "id": "VVtd3WTgGoU9"
      },
      "outputs": [],
      "source": [
        "#Percentage of Numvotes to use = 0.0005736194254974769 = 7804\n",
        "\n",
        "#Filter by number of votes\n",
        "#movies_rat=movies_rat[movies_rat['numVotes']>7804]\n",
        "\n",
        "#grab online movies in english\n",
        "#langid.set_languages(['en','fr', 'it', 'sv', 'es', 'zh', 'pt'])\n",
        "#movies_rat['lang'] = movies_rat['primaryTitle'].apply(lambda x: langid.classify(x)[0])\n",
        "#movies_rat = movies_rat[movies_rat['lang']=='en']\n",
        "#movies_rat = movies_rat.drop(columns=['lang'])\n",
        "\n",
        "\n"
      ]
    },
    {
      "cell_type": "code",
      "execution_count": null,
      "metadata": {
        "id": "dMvSrb2iIqjs"
      },
      "outputs": [],
      "source": [
        "##Cleaning Titles\n",
        "#def titles (col):\n",
        "  \n",
        "#  pattern= r\"^\\s+\"\n",
        "#  col=re.sub(pattern,\"\", col)\n",
        "  \n",
        "#  pattern2=r\"\\'\\w*\"\n",
        "#  col=re.sub(pattern2, \"\", col)\n",
        "\n",
        "  #pattern3=r'\\b\\w{2}\\b'\n",
        "  #col=re.sub(pattern3, \"\", col)\n",
        "\n",
        "#  pattern4=r'\\d+'\n",
        "#  col=re.sub(pattern4, \"\", col)\n",
        "\n",
        "  #turn lower\n",
        "#  col=col.lower()\n",
        "\n",
        "  #First Word Tokenize\n",
        "#  col = nltk.word_tokenize(col)\n",
        "\n",
        "  # Remove Punctuation and Stopwords\n",
        "#  col = list(filter(lambda w: (w not in punctuation+'...') and (w not in stop_words), col))\n",
        "\n",
        "  ## Lemmatizing\n",
        "#  col = list(map(lambda z: wordnet_lemmatizer.lemmatize(z), col))\n",
        "#  return ' '.join(col)\n",
        "\n",
        "#movies_rat['Titles']=movies_rat['primaryTitle'].apply(titles)#lambda g:titles(titles_bygenres[(titles_bygenres['genres']==g['genre']) & (titles_bygenres['averageRating']>=g['Count_Rating'])]['primaryTitle']), axis=1)\n",
        "\n",
        "#and [titles_bygenres['averageRating']>=genres_df['Count_Rating']"
      ]
    },
    {
      "cell_type": "code",
      "execution_count": null,
      "metadata": {
        "id": "LdgfU0Ns4mfl"
      },
      "outputs": [],
      "source": [
        "#Sentiment Analysis of Titles\n",
        "#movies_rat['pos']=movies_rat['Titles'].apply(lambda t: sia.polarity_scores(t)['pos'])\n",
        "#movies_rat['neg']=movies_rat['Titles'].apply(lambda t: sia.polarity_scores(t)['neg'])\n",
        "#movies_rat['neu']=movies_rat['Titles'].apply(lambda t: sia.polarity_scores(t)['neu'])\n",
        "#movies_rat['compound']=movies_rat['Titles']. apply(lambda a: sia.polarity_scores(a)['compound'])"
      ]
    },
    {
      "cell_type": "code",
      "execution_count": null,
      "metadata": {
        "id": "TsiMhBPWCuGf"
      },
      "outputs": [],
      "source": [
        "#movies_rat"
      ]
    },
    {
      "cell_type": "code",
      "execution_count": null,
      "metadata": {
        "id": "TYK_EAt9U0Tz"
      },
      "outputs": [],
      "source": [
        "#movies_rat['genres']=movies_rat['genres'].str.split(\",\", n=4, expand=False)\n",
        "#movies_rat=movies_rat.explode('genres')"
      ]
    },
    {
      "cell_type": "code",
      "execution_count": null,
      "metadata": {
        "id": "-dL1oryGiTy1"
      },
      "outputs": [],
      "source": [
        "\n",
        "#movies_rat.to_csv('movies_explode_7.8Votes.csv', index=False)"
      ]
    },
    {
      "cell_type": "markdown",
      "metadata": {
        "id": "FYfI8Nd6_TN1"
      },
      "source": [
        "##DataFrame saved"
      ]
    },
    {
      "cell_type": "code",
      "execution_count": null,
      "metadata": {
        "id": "sXU3BuE25EkQ"
      },
      "outputs": [],
      "source": [
        "''' \n",
        "DataFrame Without Exploded 12/05\n",
        "'''\n",
        "#movies_rat.to_csv('movies_noexplode.csv', index=False)#100:131]#['Titles'].iloc[0]"
      ]
    },
    {
      "cell_type": "code",
      "execution_count": null,
      "metadata": {
        "id": "aTun5ju0lC54"
      },
      "outputs": [],
      "source": [
        "''' \n",
        "DataFrame With Explode 12/05\n",
        "'''\n",
        "#movies_rat.to_csv('movs_rating.csv', index=False)"
      ]
    },
    {
      "cell_type": "code",
      "execution_count": null,
      "metadata": {
        "id": "i-p3uxbDhnmo"
      },
      "outputs": [],
      "source": [
        "''' \n",
        "DataFrame With Sentiment Analysis of each title and with explode genre 11/05\n",
        "'''\n",
        "#movies_rat.to_csv('SA_titles.csv', index=False)#['Titles']#.sum()"
      ]
    },
    {
      "cell_type": "markdown",
      "metadata": {
        "id": "xMIvbDVM90o2"
      },
      "source": [
        "#My Analysis (start to use dataframe without Explode function)\n",
        "-Data Sample\n",
        "\n",
        "-pivot table\n",
        "\n",
        "-explode genres"
      ]
    },
    {
      "cell_type": "code",
      "execution_count": null,
      "metadata": {
        "id": "pNpRBb5AiJeS"
      },
      "outputs": [],
      "source": [
        "#movies_rat.head(5)"
      ]
    },
    {
      "cell_type": "code",
      "execution_count": null,
      "metadata": {
        "id": "9Z9wci9igMZC"
      },
      "outputs": [],
      "source": [
        "#movies_sample=movies_rat.sample(n=10000, random_state=42, weights='averageRating')"
      ]
    },
    {
      "cell_type": "code",
      "execution_count": null,
      "metadata": {
        "id": "t9YAxeoilnuR"
      },
      "outputs": [],
      "source": [
        "#movies_sample['averageRating'].value_counts().describe()"
      ]
    },
    {
      "cell_type": "code",
      "execution_count": null,
      "metadata": {
        "id": "MQ2H1Dw9ru5E"
      },
      "outputs": [],
      "source": [
        "#function per averrating\n",
        "#if count of average count is < "
      ]
    },
    {
      "cell_type": "code",
      "execution_count": null,
      "metadata": {
        "id": "YSdqMRdM_ea7"
      },
      "outputs": [],
      "source": [
        "#PIVOT TABLE\n",
        "\n",
        "#df.pivot_table(index=[\"tconst\"], columns=\"genres\", aggfunc=lambda x: 1, fill_value=0).reset_index()"
      ]
    },
    {
      "cell_type": "markdown",
      "metadata": {
        "id": "z8y_llqSsFTR"
      },
      "source": [
        "#For try to predict"
      ]
    },
    {
      "cell_type": "code",
      "execution_count": null,
      "metadata": {
        "id": "CK749ONasKQ_"
      },
      "outputs": [],
      "source": [
        "df=pd.read_csv('https://raw.githubusercontent.com/RuiVelho/My-movie-review-prediction/main/tittles_sample_50_diretors.csv')\n",
        "df.isna().sum()\n",
        "#.iloc[:30]"
      ]
    },
    {
      "cell_type": "code",
      "execution_count": null,
      "metadata": {
        "id": "M4rryDMs4cwR"
      },
      "outputs": [],
      "source": [
        "df.head(5)"
      ]
    },
    {
      "cell_type": "markdown",
      "metadata": {
        "id": "qToankIeuqbE"
      },
      "source": [
        "#Pivot Table Genres"
      ]
    },
    {
      "cell_type": "code",
      "execution_count": null,
      "metadata": {
        "id": "2pxjpbi1nIab"
      },
      "outputs": [],
      "source": [
        "#pd.pivot_table(genres_df, columns=[[]]'genres', 'tconst']], aggfunc='mean', fill_value=None, margins=False, dropna=True, margins_name='All', observed=False, sort=True)"
      ]
    },
    {
      "cell_type": "code",
      "execution_count": null,
      "metadata": {
        "id": "MsF0cN7noANb"
      },
      "outputs": [],
      "source": [
        "#genres_pivot=pd.pivot_table(data=genres[[\"genres\",\"tconst\"]], columns=\"genres\", index=\"tconst\", aggfunc=lambda x: 1, fill_value=0).reset_index()"
      ]
    },
    {
      "cell_type": "code",
      "execution_count": null,
      "metadata": {
        "id": "7YhEsy-_oV8b"
      },
      "outputs": [],
      "source": [
        "#genres_pivot.to_csv('genres_pivot.csv', index=False)\n",
        "#genres_pivot"
      ]
    },
    {
      "cell_type": "markdown",
      "metadata": {
        "id": "a2cnl__NuvqF"
      },
      "source": [
        "#Merge everything\n",
        "-pivot ators, directors, genres to main dataframe"
      ]
    },
    {
      "cell_type": "code",
      "execution_count": null,
      "metadata": {
        "id": "WyDZQWyeu6Bf"
      },
      "outputs": [],
      "source": [
        "#pivot_dir_act=pd.read_csv('/content/merge_director_actor.csv')\n",
        "#pivot_dir_act"
      ]
    },
    {
      "cell_type": "code",
      "execution_count": null,
      "metadata": {
        "id": "c1JTASPdv3ii"
      },
      "outputs": [],
      "source": [
        "#all_data=pivot_dir_act.merge(genres_pivot, left_on='tconst', right_on='tconst')\n",
        "#all_data"
      ]
    },
    {
      "cell_type": "code",
      "execution_count": null,
      "metadata": {
        "id": "t-UqMJMYxjn2"
      },
      "outputs": [],
      "source": [
        "#all_data.fillna(0, inplace=True)\n",
        "\n",
        "#all_data.isna().sum()"
      ]
    },
    {
      "cell_type": "code",
      "execution_count": null,
      "metadata": {
        "id": "rBsE45Qywsad"
      },
      "outputs": [],
      "source": [
        "#all_data.to_csv('all_data.csv', index=False)"
      ]
    },
    {
      "cell_type": "markdown",
      "metadata": {
        "id": "290lqdrs3fdQ"
      },
      "source": [
        "#Prediction"
      ]
    },
    {
      "cell_type": "code",
      "execution_count": null,
      "metadata": {
        "id": "QWXiam0VX6fO"
      },
      "outputs": [],
      "source": [
        "all_data=pd.read_csv('/content/all_data.csv')"
      ]
    },
    {
      "cell_type": "code",
      "execution_count": null,
      "metadata": {
        "id": "-rRZQ0k4Di4c"
      },
      "outputs": [],
      "source": [
        "all_data['runtimeMinutes'].replace({'\\\\N':0})\n",
        "#df.replace({0: 10, 1: 100})\n",
        "all_data['runtimeMinutes'] = pd.to_numeric(all_data['runtimeMinutes'], errors='coerce').astype('Int64')\n",
        "type(all_data['runtimeMinutes'].iloc[0])"
      ]
    },
    {
      "cell_type": "code",
      "execution_count": null,
      "metadata": {
        "id": "wE9zAhW_0S2E"
      },
      "outputs": [],
      "source": [
        "X=all_data.select_dtypes('number').drop(columns=['averageRating', 'numVotes'])\n",
        "y=all_data['averageRating']\n",
        "\n",
        "X_train,X_test,y_train,y_test=train_test_split(X,y, train_size=0.8, random_state=42)"
      ]
    },
    {
      "cell_type": "code",
      "execution_count": null,
      "metadata": {
        "id": "Gi6WOV7B4HGr"
      },
      "outputs": [],
      "source": [
        "X.columns"
      ]
    },
    {
      "cell_type": "markdown",
      "metadata": {
        "id": "eRDcZr6dPWF_"
      },
      "source": [
        "##Standart Scaler"
      ]
    },
    {
      "cell_type": "code",
      "execution_count": null,
      "metadata": {
        "colab": {
          "background_save": true
        },
        "id": "3hNhvKpt1-cY",
        "outputId": "1f75fe36-186a-4afc-934d-ce3465f980c3"
      },
      "outputs": [
        {
          "ename": "ValueError",
          "evalue": "ignored",
          "output_type": "error",
          "traceback": [
            "\u001b[0;31m---------------------------------------------------------------------------\u001b[0m",
            "\u001b[0;31mValueError\u001b[0m                                Traceback (most recent call last)",
            "\u001b[0;32m<ipython-input-221-4a44d6d6af23>\u001b[0m in \u001b[0;36m<cell line: 7>\u001b[0;34m()\u001b[0m\n\u001b[1;32m      5\u001b[0m \u001b[0;34m\u001b[0m\u001b[0m\n\u001b[1;32m      6\u001b[0m \u001b[0mpca\u001b[0m \u001b[0;34m=\u001b[0m \u001b[0mPCA\u001b[0m\u001b[0;34m(\u001b[0m\u001b[0mn_components\u001b[0m \u001b[0;34m=\u001b[0m \u001b[0;36m0.75\u001b[0m\u001b[0;34m)\u001b[0m\u001b[0;34m\u001b[0m\u001b[0;34m\u001b[0m\u001b[0m\n\u001b[0;32m----> 7\u001b[0;31m \u001b[0mX_pca\u001b[0m \u001b[0;34m=\u001b[0m \u001b[0mpca\u001b[0m\u001b[0;34m.\u001b[0m\u001b[0mfit_transform\u001b[0m\u001b[0;34m(\u001b[0m\u001b[0mX_scaler\u001b[0m\u001b[0;34m)\u001b[0m\u001b[0;34m\u001b[0m\u001b[0;34m\u001b[0m\u001b[0m\n\u001b[0m\u001b[1;32m      8\u001b[0m \u001b[0mX_pca\u001b[0m\u001b[0;34m.\u001b[0m\u001b[0mshape\u001b[0m\u001b[0;34m\u001b[0m\u001b[0;34m\u001b[0m\u001b[0m\n\u001b[1;32m      9\u001b[0m \u001b[0;34m\u001b[0m\u001b[0m\n",
            "\u001b[0;32m/usr/local/lib/python3.10/dist-packages/sklearn/utils/_set_output.py\u001b[0m in \u001b[0;36mwrapped\u001b[0;34m(self, X, *args, **kwargs)\u001b[0m\n\u001b[1;32m    138\u001b[0m     \u001b[0;34m@\u001b[0m\u001b[0mwraps\u001b[0m\u001b[0;34m(\u001b[0m\u001b[0mf\u001b[0m\u001b[0;34m)\u001b[0m\u001b[0;34m\u001b[0m\u001b[0;34m\u001b[0m\u001b[0m\n\u001b[1;32m    139\u001b[0m     \u001b[0;32mdef\u001b[0m \u001b[0mwrapped\u001b[0m\u001b[0;34m(\u001b[0m\u001b[0mself\u001b[0m\u001b[0;34m,\u001b[0m \u001b[0mX\u001b[0m\u001b[0;34m,\u001b[0m \u001b[0;34m*\u001b[0m\u001b[0margs\u001b[0m\u001b[0;34m,\u001b[0m \u001b[0;34m**\u001b[0m\u001b[0mkwargs\u001b[0m\u001b[0;34m)\u001b[0m\u001b[0;34m:\u001b[0m\u001b[0;34m\u001b[0m\u001b[0;34m\u001b[0m\u001b[0m\n\u001b[0;32m--> 140\u001b[0;31m         \u001b[0mdata_to_wrap\u001b[0m \u001b[0;34m=\u001b[0m \u001b[0mf\u001b[0m\u001b[0;34m(\u001b[0m\u001b[0mself\u001b[0m\u001b[0;34m,\u001b[0m \u001b[0mX\u001b[0m\u001b[0;34m,\u001b[0m \u001b[0;34m*\u001b[0m\u001b[0margs\u001b[0m\u001b[0;34m,\u001b[0m \u001b[0;34m**\u001b[0m\u001b[0mkwargs\u001b[0m\u001b[0;34m)\u001b[0m\u001b[0;34m\u001b[0m\u001b[0;34m\u001b[0m\u001b[0m\n\u001b[0m\u001b[1;32m    141\u001b[0m         \u001b[0;32mif\u001b[0m \u001b[0misinstance\u001b[0m\u001b[0;34m(\u001b[0m\u001b[0mdata_to_wrap\u001b[0m\u001b[0;34m,\u001b[0m \u001b[0mtuple\u001b[0m\u001b[0;34m)\u001b[0m\u001b[0;34m:\u001b[0m\u001b[0;34m\u001b[0m\u001b[0;34m\u001b[0m\u001b[0m\n\u001b[1;32m    142\u001b[0m             \u001b[0;31m# only wrap the first output for cross decomposition\u001b[0m\u001b[0;34m\u001b[0m\u001b[0;34m\u001b[0m\u001b[0m\n",
            "\u001b[0;32m/usr/local/lib/python3.10/dist-packages/sklearn/decomposition/_pca.py\u001b[0m in \u001b[0;36mfit_transform\u001b[0;34m(self, X, y)\u001b[0m\n\u001b[1;32m    460\u001b[0m         \u001b[0mself\u001b[0m\u001b[0;34m.\u001b[0m\u001b[0m_validate_params\u001b[0m\u001b[0;34m(\u001b[0m\u001b[0;34m)\u001b[0m\u001b[0;34m\u001b[0m\u001b[0;34m\u001b[0m\u001b[0m\n\u001b[1;32m    461\u001b[0m \u001b[0;34m\u001b[0m\u001b[0m\n\u001b[0;32m--> 462\u001b[0;31m         \u001b[0mU\u001b[0m\u001b[0;34m,\u001b[0m \u001b[0mS\u001b[0m\u001b[0;34m,\u001b[0m \u001b[0mVt\u001b[0m \u001b[0;34m=\u001b[0m \u001b[0mself\u001b[0m\u001b[0;34m.\u001b[0m\u001b[0m_fit\u001b[0m\u001b[0;34m(\u001b[0m\u001b[0mX\u001b[0m\u001b[0;34m)\u001b[0m\u001b[0;34m\u001b[0m\u001b[0;34m\u001b[0m\u001b[0m\n\u001b[0m\u001b[1;32m    463\u001b[0m         \u001b[0mU\u001b[0m \u001b[0;34m=\u001b[0m \u001b[0mU\u001b[0m\u001b[0;34m[\u001b[0m\u001b[0;34m:\u001b[0m\u001b[0;34m,\u001b[0m \u001b[0;34m:\u001b[0m \u001b[0mself\u001b[0m\u001b[0;34m.\u001b[0m\u001b[0mn_components_\u001b[0m\u001b[0;34m]\u001b[0m\u001b[0;34m\u001b[0m\u001b[0;34m\u001b[0m\u001b[0m\n\u001b[1;32m    464\u001b[0m \u001b[0;34m\u001b[0m\u001b[0m\n",
            "\u001b[0;32m/usr/local/lib/python3.10/dist-packages/sklearn/decomposition/_pca.py\u001b[0m in \u001b[0;36m_fit\u001b[0;34m(self, X)\u001b[0m\n\u001b[1;32m    483\u001b[0m             )\n\u001b[1;32m    484\u001b[0m \u001b[0;34m\u001b[0m\u001b[0m\n\u001b[0;32m--> 485\u001b[0;31m         X = self._validate_data(\n\u001b[0m\u001b[1;32m    486\u001b[0m             \u001b[0mX\u001b[0m\u001b[0;34m,\u001b[0m \u001b[0mdtype\u001b[0m\u001b[0;34m=\u001b[0m\u001b[0;34m[\u001b[0m\u001b[0mnp\u001b[0m\u001b[0;34m.\u001b[0m\u001b[0mfloat64\u001b[0m\u001b[0;34m,\u001b[0m \u001b[0mnp\u001b[0m\u001b[0;34m.\u001b[0m\u001b[0mfloat32\u001b[0m\u001b[0;34m]\u001b[0m\u001b[0;34m,\u001b[0m \u001b[0mensure_2d\u001b[0m\u001b[0;34m=\u001b[0m\u001b[0;32mTrue\u001b[0m\u001b[0;34m,\u001b[0m \u001b[0mcopy\u001b[0m\u001b[0;34m=\u001b[0m\u001b[0mself\u001b[0m\u001b[0;34m.\u001b[0m\u001b[0mcopy\u001b[0m\u001b[0;34m\u001b[0m\u001b[0;34m\u001b[0m\u001b[0m\n\u001b[1;32m    487\u001b[0m         )\n",
            "\u001b[0;32m/usr/local/lib/python3.10/dist-packages/sklearn/base.py\u001b[0m in \u001b[0;36m_validate_data\u001b[0;34m(self, X, y, reset, validate_separately, **check_params)\u001b[0m\n\u001b[1;32m    563\u001b[0m             \u001b[0;32mraise\u001b[0m \u001b[0mValueError\u001b[0m\u001b[0;34m(\u001b[0m\u001b[0;34m\"Validation should be done on X, y or both.\"\u001b[0m\u001b[0;34m)\u001b[0m\u001b[0;34m\u001b[0m\u001b[0;34m\u001b[0m\u001b[0m\n\u001b[1;32m    564\u001b[0m         \u001b[0;32melif\u001b[0m \u001b[0;32mnot\u001b[0m \u001b[0mno_val_X\u001b[0m \u001b[0;32mand\u001b[0m \u001b[0mno_val_y\u001b[0m\u001b[0;34m:\u001b[0m\u001b[0;34m\u001b[0m\u001b[0;34m\u001b[0m\u001b[0m\n\u001b[0;32m--> 565\u001b[0;31m             \u001b[0mX\u001b[0m \u001b[0;34m=\u001b[0m \u001b[0mcheck_array\u001b[0m\u001b[0;34m(\u001b[0m\u001b[0mX\u001b[0m\u001b[0;34m,\u001b[0m \u001b[0minput_name\u001b[0m\u001b[0;34m=\u001b[0m\u001b[0;34m\"X\"\u001b[0m\u001b[0;34m,\u001b[0m \u001b[0;34m**\u001b[0m\u001b[0mcheck_params\u001b[0m\u001b[0;34m)\u001b[0m\u001b[0;34m\u001b[0m\u001b[0;34m\u001b[0m\u001b[0m\n\u001b[0m\u001b[1;32m    566\u001b[0m             \u001b[0mout\u001b[0m \u001b[0;34m=\u001b[0m \u001b[0mX\u001b[0m\u001b[0;34m\u001b[0m\u001b[0;34m\u001b[0m\u001b[0m\n\u001b[1;32m    567\u001b[0m         \u001b[0;32melif\u001b[0m \u001b[0mno_val_X\u001b[0m \u001b[0;32mand\u001b[0m \u001b[0;32mnot\u001b[0m \u001b[0mno_val_y\u001b[0m\u001b[0;34m:\u001b[0m\u001b[0;34m\u001b[0m\u001b[0;34m\u001b[0m\u001b[0m\n",
            "\u001b[0;32m/usr/local/lib/python3.10/dist-packages/sklearn/utils/validation.py\u001b[0m in \u001b[0;36mcheck_array\u001b[0;34m(array, accept_sparse, accept_large_sparse, dtype, order, copy, force_all_finite, ensure_2d, allow_nd, ensure_min_samples, ensure_min_features, estimator, input_name)\u001b[0m\n\u001b[1;32m    919\u001b[0m \u001b[0;34m\u001b[0m\u001b[0m\n\u001b[1;32m    920\u001b[0m         \u001b[0;32mif\u001b[0m \u001b[0mforce_all_finite\u001b[0m\u001b[0;34m:\u001b[0m\u001b[0;34m\u001b[0m\u001b[0;34m\u001b[0m\u001b[0m\n\u001b[0;32m--> 921\u001b[0;31m             _assert_all_finite(\n\u001b[0m\u001b[1;32m    922\u001b[0m                 \u001b[0marray\u001b[0m\u001b[0;34m,\u001b[0m\u001b[0;34m\u001b[0m\u001b[0;34m\u001b[0m\u001b[0m\n\u001b[1;32m    923\u001b[0m                 \u001b[0minput_name\u001b[0m\u001b[0;34m=\u001b[0m\u001b[0minput_name\u001b[0m\u001b[0;34m,\u001b[0m\u001b[0;34m\u001b[0m\u001b[0;34m\u001b[0m\u001b[0m\n",
            "\u001b[0;32m/usr/local/lib/python3.10/dist-packages/sklearn/utils/validation.py\u001b[0m in \u001b[0;36m_assert_all_finite\u001b[0;34m(X, allow_nan, msg_dtype, estimator_name, input_name)\u001b[0m\n\u001b[1;32m    159\u001b[0m                 \u001b[0;34m\"#estimators-that-handle-nan-values\"\u001b[0m\u001b[0;34m\u001b[0m\u001b[0;34m\u001b[0m\u001b[0m\n\u001b[1;32m    160\u001b[0m             )\n\u001b[0;32m--> 161\u001b[0;31m         \u001b[0;32mraise\u001b[0m \u001b[0mValueError\u001b[0m\u001b[0;34m(\u001b[0m\u001b[0mmsg_err\u001b[0m\u001b[0;34m)\u001b[0m\u001b[0;34m\u001b[0m\u001b[0;34m\u001b[0m\u001b[0m\n\u001b[0m\u001b[1;32m    162\u001b[0m \u001b[0;34m\u001b[0m\u001b[0m\n\u001b[1;32m    163\u001b[0m \u001b[0;34m\u001b[0m\u001b[0m\n",
            "\u001b[0;31mValueError\u001b[0m: Input X contains NaN.\nPCA does not accept missing values encoded as NaN natively. For supervised learning, you might want to consider sklearn.ensemble.HistGradientBoostingClassifier and Regressor which accept missing values encoded as NaNs natively. Alternatively, it is possible to preprocess the data, for instance by using an imputer transformer in a pipeline or drop samples with missing values. See https://scikit-learn.org/stable/modules/impute.html You can find a list of all estimators that handle NaN values at the following page: https://scikit-learn.org/stable/modules/impute.html#estimators-that-handle-nan-values"
          ]
        }
      ],
      "source": [
        "scaler = StandardScaler()\n",
        "X_scaler=scaler.fit_transform(X_train)\n",
        "#scaler=scaler.fit(X_train)\n",
        "#X_scaler = scaler.transform(X_train, X_test)\n",
        "\n",
        "pca = PCA(n_components = 0.75)\n",
        "X_pca = pca.fit_transform(X_scaler)\n",
        "X_pca.shape\n",
        "\n",
        "#X_pca_df = pd.DataFrame(X_pca)\n",
        "#X_pca_df['averageRating']=y\n"
      ]
    },
    {
      "cell_type": "code",
      "execution_count": null,
      "metadata": {
        "colab": {
          "background_save": true
        },
        "id": "wX6FCy7-_d95"
      },
      "outputs": [],
      "source": [
        "X_scaler_test=scaler.transform(X_test)\n",
        "X_pca_test = pca.transform(X_scaler_test)"
      ]
    },
    {
      "cell_type": "code",
      "execution_count": null,
      "metadata": {
        "colab": {
          "background_save": true
        },
        "id": "mgOWtSPx4d8O"
      },
      "outputs": [],
      "source": [
        "lnreg = LinearRegression().fit(X_pca,y_train)\n",
        "lnreg.score(X_pca_test, y_test)"
      ]
    },
    {
      "cell_type": "markdown",
      "metadata": {
        "id": "2bX7GCx7PA8S"
      },
      "source": [
        "##MinMax"
      ]
    },
    {
      "cell_type": "code",
      "execution_count": null,
      "metadata": {
        "colab": {
          "background_save": true
        },
        "id": "-Ae62QmzKelk"
      },
      "outputs": [],
      "source": [
        "''''\n",
        "minmax=MinMaxScaler()\n",
        "\n",
        "X_minmaxscaller=minmax.fit_transform(X_train)\n",
        "'''\n",
        "#pca = PCA(n_components = 0.75)\n",
        "#X_pca_minmax = pca.fit_transform(X_minmaxscaller)\n",
        "#X_pca_minmax.shape\n"
      ]
    },
    {
      "cell_type": "code",
      "execution_count": null,
      "metadata": {
        "colab": {
          "background_save": true
        },
        "id": "z4PTX9vLMb59"
      },
      "outputs": [],
      "source": [
        "#X_minmax_test=minmax.transform(X_test)\n",
        "#X_pca_test_minmax = pca.transform(X_minmax_test)"
      ]
    },
    {
      "cell_type": "code",
      "execution_count": null,
      "metadata": {
        "colab": {
          "background_save": true
        },
        "id": "6XAULSOnLkw6"
      },
      "outputs": [],
      "source": [
        "#lnreg = LinearRegression().fit(X_pca_minmax,y_train)\n",
        "#lnreg.score(X_pca_test_minmax , y_test)"
      ]
    },
    {
      "cell_type": "code",
      "execution_count": null,
      "metadata": {
        "colab": {
          "background_save": true
        },
        "id": "0OMqqBlvC0yH"
      },
      "outputs": [],
      "source": [
        "y.nunique()"
      ]
    },
    {
      "cell_type": "code",
      "execution_count": null,
      "metadata": {
        "colab": {
          "background_save": true
        },
        "id": "khdqJ0dh6_0o",
        "outputId": "4ece5247-a01f-4d4b-a280-2acb1875f5af"
      },
      "outputs": [
        {
          "data": {
            "text/plain": [
              "0.02751768195199411"
            ]
          },
          "execution_count": 270,
          "metadata": {},
          "output_type": "execute_result"
        }
      ],
      "source": [
        "from sklearn.pipeline import Pipeline\n",
        "\n",
        "minmax = MinMaxScaler()\n",
        "lnreg = LinearRegression()\n",
        "pca = PCA(n_components = 0.75)\n",
        "pipe_minmax_lr = Pipeline([('minmax', minmax),('pca',pca), ('lnreg', lnreg)])\n",
        "\n",
        "pipe_minmax_lr.fit(X_train,y_train)\n",
        "pipe_minmax_lr.score(X_test,y_test)\n",
        "\n"
      ]
    },
    {
      "cell_type": "code",
      "execution_count": null,
      "metadata": {
        "colab": {
          "background_save": true
        },
        "id": "FbP3sUfr-Gzl"
      },
      "outputs": [],
      "source": [
        "import pickle\n",
        "\n",
        "# save the model to disk\n",
        "filename = 'finalized_model.sav'\n",
        "pickle.dump(pipe_minmax_lr, open(filename, 'wb'))"
      ]
    },
    {
      "cell_type": "code",
      "execution_count": null,
      "metadata": {
        "colab": {
          "background_save": true
        },
        "id": "GF6Zl2U3FREA"
      },
      "outputs": [],
      "source": [
        "#movies=pd.read_csv('https://raw.githubusercontent.com/RuiVelho/My-movie-review-prediction/main/movies_noexplode.csv')\n",
        "#movies.drop(['endYear', 'genres','pos', 'neg', 'neu'], axis=1, inplace=True)\n",
        "#movies"
      ]
    },
    {
      "cell_type": "code",
      "execution_count": null,
      "metadata": {
        "colab": {
          "background_save": true
        },
        "id": "EOR_6vGFGHF5"
      },
      "outputs": [],
      "source": [
        "#X1=movies[['isAdult','startYear','runtimeMinutes', 'numVotes','compound']]\n",
        "#y1=movies['averageRating']\n",
        "\n",
        "#X1_train,X1_test,y1_train,y1_test=train_test_split(X1,y1, train_size=0.8, random_state=42)\n",
        "\n",
        "#lnreg1=LinearRegression().fit(X1_train, y1_train)\n",
        "#lnreg1.transform(X1_test,y1_test)\n",
        "#lnreg1.score(X1_test,y1_test)"
      ]
    },
    {
      "cell_type": "code",
      "execution_count": null,
      "metadata": {
        "colab": {
          "background_save": true
        },
        "id": "83MwoQhj1w04",
        "outputId": "da665bdc-53f7-470a-d38b-4fb05fface6f"
      },
      "outputs": [
        {
          "data": {
            "application/vnd.google.colaboratory.intrinsic+json": {
              "type": "string"
            },
            "text/plain": [
              "\"\\n# Classification (All estimators)\\n# Logistic Reg\\nlogreg = LogisticRegression() # estimator\\nlogreg_params = {'penalty': ['l2', None]}\\n\\n# Scaler + Logistic Reg (pipeline)\\nscaler = StandardScaler()\\nlogreg_scal = LogisticRegression()\\npipe_scal_lr = Pipeline([('scaler', scaler), ('lr', logreg_scal)])\\npipe_scal_lr_params = {'lr__penalty': ['l2', None]}\\n\\n# MinmaxScaler + LogisticReg (pipeline)\\nminmax = MinMaxScaler()\\nlogreg_minmax = LogisticRegression()\\npipe_minmax_lr = Pipeline([('minmax', minmax), ('lr', logreg_minmax)])\\npipe_minmax_lr_params = {'minmax__feature_range': [(0,1), (-1,1)], 'lr__penalty': ['l2', None]}\\n\\n# Decision Tree Clas\\ndct=DecisionTreeClassifier()\\ndct_params={'criterion':['gini', 'entropy', 'log_loss']}\\n\\n# Scaler + Desicion Tree C (pipeline)\\nscaler_dct = StandardScaler()\\ndct_scal= DecisionTreeClassifier()\\npipeline_dct_scal = Pipeline([('scaler',scaler_dct), ('decision', dct_scal)])\\npipe_scal_decisiont= {'criterion':['gini', 'entropy', 'log_loss']}\\n\\n# MinmaxScaler + Desicion Tree C (pipeline)\\nminmax_dct = MinMaxScaler()\\ndct_minmax= DecisionTreeClassifier()\\npipe_minmax_dct = Pipeline([('minmax', minmax_dct),('decision', dct_minmax)])\\npipe_minmax_lr_params = {'minmax__feature_range': [(0,1), (-1,1)], 'criterion':['gini', 'entropy', 'log_loss']}\\n                           \\n# SVC\\nsvc=svm.SVC()\\nsvc_param={'kernel': ['linear', 'poly', 'rbf', 'sigmoid', 'precomputed']}\\n\\n# Scaler + SVC (pipeline)\\nscaler_svc = StandardScaler()\\nsvc_scal=svm.SVC()\\n\\n# MinmaxScaler + SVC (pipeline)\\n\\n# Knn\\nknn = KNeighborsClassifier()\\nknn_params = {'n_neighbors': range(2, 15)}\\n\\n# Scaler + Knn (pipeline)\\n\\n# MinmaxScaler + Knn (pipeline)\\n\\nmodels_df = pd.DataFrame([(logreg, logreg_params), \\n                          (pipe_scal_lr, pipe_scal_lr_params), \\n                           (pipe_minmax_lr, pipe_minmax_lr_params),\\n                          (knn, knn_params)],   # Add here all other algorithms you want to try\\n                         columns = ['estimator', 'params'])\\n\""
            ]
          },
          "execution_count": 274,
          "metadata": {},
          "output_type": "execute_result"
        }
      ],
      "source": [
        "'''\n",
        "# Classification (All estimators)\n",
        "# Logistic Reg\n",
        "logreg = LogisticRegression() # estimator\n",
        "logreg_params = {'penalty': ['l2', None]}\n",
        "\n",
        "# Scaler + Logistic Reg (pipeline)\n",
        "scaler = StandardScaler()\n",
        "logreg_scal = LogisticRegression()\n",
        "pipe_scal_lr = Pipeline([('scaler', scaler), ('lr', logreg_scal)])\n",
        "pipe_scal_lr_params = {'lr__penalty': ['l2', None]}\n",
        "\n",
        "# MinmaxScaler + LogisticReg (pipeline)\n",
        "minmax = MinMaxScaler()\n",
        "logreg_minmax = LogisticRegression()\n",
        "pipe_minmax_lr = Pipeline([('minmax', minmax), ('lr', logreg_minmax)])\n",
        "pipe_minmax_lr_params = {'minmax__feature_range': [(0,1), (-1,1)], 'lr__penalty': ['l2', None]}\n",
        "\n",
        "# Decision Tree Clas\n",
        "dct=DecisionTreeClassifier()\n",
        "dct_params={'criterion':['gini', 'entropy', 'log_loss']}\n",
        "\n",
        "# Scaler + Desicion Tree C (pipeline)\n",
        "scaler_dct = StandardScaler()\n",
        "dct_scal= DecisionTreeClassifier()\n",
        "pipeline_dct_scal = Pipeline([('scaler',scaler_dct), ('decision', dct_scal)])\n",
        "pipe_scal_decisiont= {'criterion':['gini', 'entropy', 'log_loss']}\n",
        "\n",
        "# MinmaxScaler + Desicion Tree C (pipeline)\n",
        "minmax_dct = MinMaxScaler()\n",
        "dct_minmax= DecisionTreeClassifier()\n",
        "pipe_minmax_dct = Pipeline([('minmax', minmax_dct),('decision', dct_minmax)])\n",
        "pipe_minmax_lr_params = {'minmax__feature_range': [(0,1), (-1,1)], 'criterion':['gini', 'entropy', 'log_loss']}\n",
        "                           \n",
        "# SVC\n",
        "svc=svm.SVC()\n",
        "svc_param={'kernel': ['linear', 'poly', 'rbf', 'sigmoid', 'precomputed']}\n",
        "\n",
        "# Scaler + SVC (pipeline)\n",
        "scaler_svc = StandardScaler()\n",
        "svc_scal=svm.SVC()\n",
        "\n",
        "# MinmaxScaler + SVC (pipeline)\n",
        "\n",
        "# Knn\n",
        "knn = KNeighborsClassifier()\n",
        "knn_params = {'n_neighbors': range(2, 15)}\n",
        "\n",
        "# Scaler + Knn (pipeline)\n",
        "\n",
        "# MinmaxScaler + Knn (pipeline)\n",
        "\n",
        "models_df = pd.DataFrame([(logreg, logreg_params), \n",
        "                          (pipe_scal_lr, pipe_scal_lr_params), \n",
        "                           (pipe_minmax_lr, pipe_minmax_lr_params),\n",
        "                          (knn, knn_params)],   # Add here all other algorithms you want to try\n",
        "                         columns = ['estimator', 'params'])\n",
        "'''"
      ]
    },
    {
      "cell_type": "markdown",
      "metadata": {
        "id": "cU1N6cH9d9lc"
      },
      "source": [
        "# Rating per each Genre and WordCloud\n",
        "\n",
        "Pos Explode genre"
      ]
    },
    {
      "cell_type": "code",
      "execution_count": null,
      "metadata": {
        "colab": {
          "background_save": true
        },
        "id": "8uWiA3sWeELp",
        "outputId": "7d2afeb2-7b61-4c48-8771-2317ee9bd138"
      },
      "outputs": [
        {
          "data": {
            "text/html": [
              "\n",
              "  <div id=\"df-2ae18e86-01e5-4a33-a2c8-c7f32d3811d5\">\n",
              "    <div class=\"colab-df-container\">\n",
              "      <div>\n",
              "<style scoped>\n",
              "    .dataframe tbody tr th:only-of-type {\n",
              "        vertical-align: middle;\n",
              "    }\n",
              "\n",
              "    .dataframe tbody tr th {\n",
              "        vertical-align: top;\n",
              "    }\n",
              "\n",
              "    .dataframe thead th {\n",
              "        text-align: right;\n",
              "    }\n",
              "</style>\n",
              "<table border=\"1\" class=\"dataframe\">\n",
              "  <thead>\n",
              "    <tr style=\"text-align: right;\">\n",
              "      <th></th>\n",
              "      <th>tconst</th>\n",
              "      <th>titleType</th>\n",
              "      <th>primaryTitle</th>\n",
              "      <th>originalTitle</th>\n",
              "      <th>isAdult</th>\n",
              "      <th>startYear</th>\n",
              "      <th>endYear</th>\n",
              "      <th>runtimeMinutes</th>\n",
              "      <th>genres</th>\n",
              "      <th>averageRating</th>\n",
              "      <th>numVotes</th>\n",
              "      <th>Titles</th>\n",
              "      <th>pos</th>\n",
              "      <th>neg</th>\n",
              "      <th>neu</th>\n",
              "      <th>compound</th>\n",
              "    </tr>\n",
              "  </thead>\n",
              "  <tbody>\n",
              "    <tr>\n",
              "      <th>0</th>\n",
              "      <td>tt0000012</td>\n",
              "      <td>short</td>\n",
              "      <td>The Arrival of a Train</td>\n",
              "      <td>L'arrivée d'un train à La Ciotat</td>\n",
              "      <td>0</td>\n",
              "      <td>1896</td>\n",
              "      <td>\\N</td>\n",
              "      <td>1</td>\n",
              "      <td>Documentary</td>\n",
              "      <td>7.4</td>\n",
              "      <td>12249</td>\n",
              "      <td>arrival train</td>\n",
              "      <td>0.0</td>\n",
              "      <td>0.0</td>\n",
              "      <td>1.0</td>\n",
              "      <td>0.0000</td>\n",
              "    </tr>\n",
              "    <tr>\n",
              "      <th>1</th>\n",
              "      <td>tt0000012</td>\n",
              "      <td>short</td>\n",
              "      <td>The Arrival of a Train</td>\n",
              "      <td>L'arrivée d'un train à La Ciotat</td>\n",
              "      <td>0</td>\n",
              "      <td>1896</td>\n",
              "      <td>\\N</td>\n",
              "      <td>1</td>\n",
              "      <td>Short</td>\n",
              "      <td>7.4</td>\n",
              "      <td>12249</td>\n",
              "      <td>arrival train</td>\n",
              "      <td>0.0</td>\n",
              "      <td>0.0</td>\n",
              "      <td>1.0</td>\n",
              "      <td>0.0000</td>\n",
              "    </tr>\n",
              "    <tr>\n",
              "      <th>2</th>\n",
              "      <td>tt0000417</td>\n",
              "      <td>short</td>\n",
              "      <td>A Trip to the Moon</td>\n",
              "      <td>Le voyage dans la lune</td>\n",
              "      <td>0</td>\n",
              "      <td>1902</td>\n",
              "      <td>\\N</td>\n",
              "      <td>13</td>\n",
              "      <td>Action</td>\n",
              "      <td>8.2</td>\n",
              "      <td>52299</td>\n",
              "      <td>trip moon</td>\n",
              "      <td>0.0</td>\n",
              "      <td>0.0</td>\n",
              "      <td>1.0</td>\n",
              "      <td>0.0000</td>\n",
              "    </tr>\n",
              "    <tr>\n",
              "      <th>3</th>\n",
              "      <td>tt0000417</td>\n",
              "      <td>short</td>\n",
              "      <td>A Trip to the Moon</td>\n",
              "      <td>Le voyage dans la lune</td>\n",
              "      <td>0</td>\n",
              "      <td>1902</td>\n",
              "      <td>\\N</td>\n",
              "      <td>13</td>\n",
              "      <td>Adventure</td>\n",
              "      <td>8.2</td>\n",
              "      <td>52299</td>\n",
              "      <td>trip moon</td>\n",
              "      <td>0.0</td>\n",
              "      <td>0.0</td>\n",
              "      <td>1.0</td>\n",
              "      <td>0.0000</td>\n",
              "    </tr>\n",
              "    <tr>\n",
              "      <th>4</th>\n",
              "      <td>tt0000417</td>\n",
              "      <td>short</td>\n",
              "      <td>A Trip to the Moon</td>\n",
              "      <td>Le voyage dans la lune</td>\n",
              "      <td>0</td>\n",
              "      <td>1902</td>\n",
              "      <td>\\N</td>\n",
              "      <td>13</td>\n",
              "      <td>Comedy</td>\n",
              "      <td>8.2</td>\n",
              "      <td>52299</td>\n",
              "      <td>trip moon</td>\n",
              "      <td>0.0</td>\n",
              "      <td>0.0</td>\n",
              "      <td>1.0</td>\n",
              "      <td>0.0000</td>\n",
              "    </tr>\n",
              "    <tr>\n",
              "      <th>...</th>\n",
              "      <td>...</td>\n",
              "      <td>...</td>\n",
              "      <td>...</td>\n",
              "      <td>...</td>\n",
              "      <td>...</td>\n",
              "      <td>...</td>\n",
              "      <td>...</td>\n",
              "      <td>...</td>\n",
              "      <td>...</td>\n",
              "      <td>...</td>\n",
              "      <td>...</td>\n",
              "      <td>...</td>\n",
              "      <td>...</td>\n",
              "      <td>...</td>\n",
              "      <td>...</td>\n",
              "      <td>...</td>\n",
              "    </tr>\n",
              "    <tr>\n",
              "      <th>38809</th>\n",
              "      <td>tt9906260</td>\n",
              "      <td>tvEpisode</td>\n",
              "      <td>Hero</td>\n",
              "      <td>Hero</td>\n",
              "      <td>0</td>\n",
              "      <td>2019</td>\n",
              "      <td>\\N</td>\n",
              "      <td>24</td>\n",
              "      <td>Adventure</td>\n",
              "      <td>9.9</td>\n",
              "      <td>101599</td>\n",
              "      <td>hero</td>\n",
              "      <td>1.0</td>\n",
              "      <td>0.0</td>\n",
              "      <td>0.0</td>\n",
              "      <td>0.5574</td>\n",
              "    </tr>\n",
              "    <tr>\n",
              "      <th>38810</th>\n",
              "      <td>tt9906260</td>\n",
              "      <td>tvEpisode</td>\n",
              "      <td>Hero</td>\n",
              "      <td>Hero</td>\n",
              "      <td>0</td>\n",
              "      <td>2019</td>\n",
              "      <td>\\N</td>\n",
              "      <td>24</td>\n",
              "      <td>Animation</td>\n",
              "      <td>9.9</td>\n",
              "      <td>101599</td>\n",
              "      <td>hero</td>\n",
              "      <td>1.0</td>\n",
              "      <td>0.0</td>\n",
              "      <td>0.0</td>\n",
              "      <td>0.5574</td>\n",
              "    </tr>\n",
              "    <tr>\n",
              "      <th>38811</th>\n",
              "      <td>tt9907782</td>\n",
              "      <td>movie</td>\n",
              "      <td>The Cursed</td>\n",
              "      <td>Eight for Silver</td>\n",
              "      <td>0</td>\n",
              "      <td>2021</td>\n",
              "      <td>\\N</td>\n",
              "      <td>111</td>\n",
              "      <td>Fantasy</td>\n",
              "      <td>6.2</td>\n",
              "      <td>13060</td>\n",
              "      <td>cursed</td>\n",
              "      <td>0.0</td>\n",
              "      <td>0.0</td>\n",
              "      <td>1.0</td>\n",
              "      <td>0.0000</td>\n",
              "    </tr>\n",
              "    <tr>\n",
              "      <th>38812</th>\n",
              "      <td>tt9907782</td>\n",
              "      <td>movie</td>\n",
              "      <td>The Cursed</td>\n",
              "      <td>Eight for Silver</td>\n",
              "      <td>0</td>\n",
              "      <td>2021</td>\n",
              "      <td>\\N</td>\n",
              "      <td>111</td>\n",
              "      <td>Horror</td>\n",
              "      <td>6.2</td>\n",
              "      <td>13060</td>\n",
              "      <td>cursed</td>\n",
              "      <td>0.0</td>\n",
              "      <td>0.0</td>\n",
              "      <td>1.0</td>\n",
              "      <td>0.0000</td>\n",
              "    </tr>\n",
              "    <tr>\n",
              "      <th>38813</th>\n",
              "      <td>tt9907782</td>\n",
              "      <td>movie</td>\n",
              "      <td>The Cursed</td>\n",
              "      <td>Eight for Silver</td>\n",
              "      <td>0</td>\n",
              "      <td>2021</td>\n",
              "      <td>\\N</td>\n",
              "      <td>111</td>\n",
              "      <td>Mystery</td>\n",
              "      <td>6.2</td>\n",
              "      <td>13060</td>\n",
              "      <td>cursed</td>\n",
              "      <td>0.0</td>\n",
              "      <td>0.0</td>\n",
              "      <td>1.0</td>\n",
              "      <td>0.0000</td>\n",
              "    </tr>\n",
              "  </tbody>\n",
              "</table>\n",
              "<p>38814 rows × 16 columns</p>\n",
              "</div>\n",
              "      <button class=\"colab-df-convert\" onclick=\"convertToInteractive('df-2ae18e86-01e5-4a33-a2c8-c7f32d3811d5')\"\n",
              "              title=\"Convert this dataframe to an interactive table.\"\n",
              "              style=\"display:none;\">\n",
              "        \n",
              "  <svg xmlns=\"http://www.w3.org/2000/svg\" height=\"24px\"viewBox=\"0 0 24 24\"\n",
              "       width=\"24px\">\n",
              "    <path d=\"M0 0h24v24H0V0z\" fill=\"none\"/>\n",
              "    <path d=\"M18.56 5.44l.94 2.06.94-2.06 2.06-.94-2.06-.94-.94-2.06-.94 2.06-2.06.94zm-11 1L8.5 8.5l.94-2.06 2.06-.94-2.06-.94L8.5 2.5l-.94 2.06-2.06.94zm10 10l.94 2.06.94-2.06 2.06-.94-2.06-.94-.94-2.06-.94 2.06-2.06.94z\"/><path d=\"M17.41 7.96l-1.37-1.37c-.4-.4-.92-.59-1.43-.59-.52 0-1.04.2-1.43.59L10.3 9.45l-7.72 7.72c-.78.78-.78 2.05 0 2.83L4 21.41c.39.39.9.59 1.41.59.51 0 1.02-.2 1.41-.59l7.78-7.78 2.81-2.81c.8-.78.8-2.07 0-2.86zM5.41 20L4 18.59l7.72-7.72 1.47 1.35L5.41 20z\"/>\n",
              "  </svg>\n",
              "      </button>\n",
              "      \n",
              "  <style>\n",
              "    .colab-df-container {\n",
              "      display:flex;\n",
              "      flex-wrap:wrap;\n",
              "      gap: 12px;\n",
              "    }\n",
              "\n",
              "    .colab-df-convert {\n",
              "      background-color: #E8F0FE;\n",
              "      border: none;\n",
              "      border-radius: 50%;\n",
              "      cursor: pointer;\n",
              "      display: none;\n",
              "      fill: #1967D2;\n",
              "      height: 32px;\n",
              "      padding: 0 0 0 0;\n",
              "      width: 32px;\n",
              "    }\n",
              "\n",
              "    .colab-df-convert:hover {\n",
              "      background-color: #E2EBFA;\n",
              "      box-shadow: 0px 1px 2px rgba(60, 64, 67, 0.3), 0px 1px 3px 1px rgba(60, 64, 67, 0.15);\n",
              "      fill: #174EA6;\n",
              "    }\n",
              "\n",
              "    [theme=dark] .colab-df-convert {\n",
              "      background-color: #3B4455;\n",
              "      fill: #D2E3FC;\n",
              "    }\n",
              "\n",
              "    [theme=dark] .colab-df-convert:hover {\n",
              "      background-color: #434B5C;\n",
              "      box-shadow: 0px 1px 3px 1px rgba(0, 0, 0, 0.15);\n",
              "      filter: drop-shadow(0px 1px 2px rgba(0, 0, 0, 0.3));\n",
              "      fill: #FFFFFF;\n",
              "    }\n",
              "  </style>\n",
              "\n",
              "      <script>\n",
              "        const buttonEl =\n",
              "          document.querySelector('#df-2ae18e86-01e5-4a33-a2c8-c7f32d3811d5 button.colab-df-convert');\n",
              "        buttonEl.style.display =\n",
              "          google.colab.kernel.accessAllowed ? 'block' : 'none';\n",
              "\n",
              "        async function convertToInteractive(key) {\n",
              "          const element = document.querySelector('#df-2ae18e86-01e5-4a33-a2c8-c7f32d3811d5');\n",
              "          const dataTable =\n",
              "            await google.colab.kernel.invokeFunction('convertToInteractive',\n",
              "                                                     [key], {});\n",
              "          if (!dataTable) return;\n",
              "\n",
              "          const docLinkHtml = 'Like what you see? Visit the ' +\n",
              "            '<a target=\"_blank\" href=https://colab.research.google.com/notebooks/data_table.ipynb>data table notebook</a>'\n",
              "            + ' to learn more about interactive tables.';\n",
              "          element.innerHTML = '';\n",
              "          dataTable['output_type'] = 'display_data';\n",
              "          await google.colab.output.renderOutput(dataTable, element);\n",
              "          const docLink = document.createElement('div');\n",
              "          docLink.innerHTML = docLinkHtml;\n",
              "          element.appendChild(docLink);\n",
              "        }\n",
              "      </script>\n",
              "    </div>\n",
              "  </div>\n",
              "  "
            ],
            "text/plain": [
              "          tconst  titleType            primaryTitle  \\\n",
              "0      tt0000012      short  The Arrival of a Train   \n",
              "1      tt0000012      short  The Arrival of a Train   \n",
              "2      tt0000417      short      A Trip to the Moon   \n",
              "3      tt0000417      short      A Trip to the Moon   \n",
              "4      tt0000417      short      A Trip to the Moon   \n",
              "...          ...        ...                     ...   \n",
              "38809  tt9906260  tvEpisode                    Hero   \n",
              "38810  tt9906260  tvEpisode                    Hero   \n",
              "38811  tt9907782      movie              The Cursed   \n",
              "38812  tt9907782      movie              The Cursed   \n",
              "38813  tt9907782      movie              The Cursed   \n",
              "\n",
              "                          originalTitle  isAdult  startYear endYear  \\\n",
              "0      L'arrivée d'un train à La Ciotat        0       1896      \\N   \n",
              "1      L'arrivée d'un train à La Ciotat        0       1896      \\N   \n",
              "2                Le voyage dans la lune        0       1902      \\N   \n",
              "3                Le voyage dans la lune        0       1902      \\N   \n",
              "4                Le voyage dans la lune        0       1902      \\N   \n",
              "...                                 ...      ...        ...     ...   \n",
              "38809                              Hero        0       2019      \\N   \n",
              "38810                              Hero        0       2019      \\N   \n",
              "38811                  Eight for Silver        0       2021      \\N   \n",
              "38812                  Eight for Silver        0       2021      \\N   \n",
              "38813                  Eight for Silver        0       2021      \\N   \n",
              "\n",
              "      runtimeMinutes       genres  averageRating  numVotes         Titles  \\\n",
              "0                  1  Documentary            7.4     12249  arrival train   \n",
              "1                  1        Short            7.4     12249  arrival train   \n",
              "2                 13       Action            8.2     52299      trip moon   \n",
              "3                 13    Adventure            8.2     52299      trip moon   \n",
              "4                 13       Comedy            8.2     52299      trip moon   \n",
              "...              ...          ...            ...       ...            ...   \n",
              "38809             24    Adventure            9.9    101599           hero   \n",
              "38810             24    Animation            9.9    101599           hero   \n",
              "38811            111      Fantasy            6.2     13060         cursed   \n",
              "38812            111       Horror            6.2     13060         cursed   \n",
              "38813            111      Mystery            6.2     13060         cursed   \n",
              "\n",
              "       pos  neg  neu  compound  \n",
              "0      0.0  0.0  1.0    0.0000  \n",
              "1      0.0  0.0  1.0    0.0000  \n",
              "2      0.0  0.0  1.0    0.0000  \n",
              "3      0.0  0.0  1.0    0.0000  \n",
              "4      0.0  0.0  1.0    0.0000  \n",
              "...    ...  ...  ...       ...  \n",
              "38809  1.0  0.0  0.0    0.5574  \n",
              "38810  1.0  0.0  0.0    0.5574  \n",
              "38811  0.0  0.0  1.0    0.0000  \n",
              "38812  0.0  0.0  1.0    0.0000  \n",
              "38813  0.0  0.0  1.0    0.0000  \n",
              "\n",
              "[38814 rows x 16 columns]"
            ]
          },
          "execution_count": 275,
          "metadata": {},
          "output_type": "execute_result"
        }
      ],
      "source": [
        "genres=pd.read_csv('https://raw.githubusercontent.com/RuiVelho/My-movie-review-prediction/main/movies_explode_7.8Votes.csv')\n",
        "genres"
      ]
    },
    {
      "cell_type": "code",
      "execution_count": null,
      "metadata": {
        "colab": {
          "background_save": true
        },
        "id": "gz0YVSxtlAwJ",
        "outputId": "132b3d77-f5cb-4757-8621-7f2b2a4dfe8d"
      },
      "outputs": [
        {
          "data": {
            "text/html": [
              "\n",
              "  <div id=\"df-86da666a-f0da-4c1c-a060-a770035047ad\">\n",
              "    <div class=\"colab-df-container\">\n",
              "      <div>\n",
              "<style scoped>\n",
              "    .dataframe tbody tr th:only-of-type {\n",
              "        vertical-align: middle;\n",
              "    }\n",
              "\n",
              "    .dataframe tbody tr th {\n",
              "        vertical-align: top;\n",
              "    }\n",
              "\n",
              "    .dataframe thead th {\n",
              "        text-align: right;\n",
              "    }\n",
              "</style>\n",
              "<table border=\"1\" class=\"dataframe\">\n",
              "  <thead>\n",
              "    <tr style=\"text-align: right;\">\n",
              "      <th></th>\n",
              "      <th>tconst</th>\n",
              "      <th>titleType</th>\n",
              "      <th>primaryTitle</th>\n",
              "      <th>originalTitle</th>\n",
              "      <th>isAdult</th>\n",
              "      <th>startYear</th>\n",
              "      <th>endYear</th>\n",
              "      <th>runtimeMinutes</th>\n",
              "      <th>genres</th>\n",
              "      <th>averageRating</th>\n",
              "      <th>numVotes</th>\n",
              "      <th>Titles</th>\n",
              "      <th>pos</th>\n",
              "      <th>neg</th>\n",
              "      <th>neu</th>\n",
              "      <th>compound</th>\n",
              "    </tr>\n",
              "  </thead>\n",
              "  <tbody>\n",
              "    <tr>\n",
              "      <th>0</th>\n",
              "      <td>tt0000012</td>\n",
              "      <td>short</td>\n",
              "      <td>The Arrival of a Train</td>\n",
              "      <td>L'arrivée d'un train à La Ciotat</td>\n",
              "      <td>0</td>\n",
              "      <td>1896</td>\n",
              "      <td>\\N</td>\n",
              "      <td>1</td>\n",
              "      <td>Documentary</td>\n",
              "      <td>7.4</td>\n",
              "      <td>12249</td>\n",
              "      <td>arrival train</td>\n",
              "      <td>0.0</td>\n",
              "      <td>0.0</td>\n",
              "      <td>1.0</td>\n",
              "      <td>0.0000</td>\n",
              "    </tr>\n",
              "    <tr>\n",
              "      <th>1</th>\n",
              "      <td>tt0000012</td>\n",
              "      <td>short</td>\n",
              "      <td>The Arrival of a Train</td>\n",
              "      <td>L'arrivée d'un train à La Ciotat</td>\n",
              "      <td>0</td>\n",
              "      <td>1896</td>\n",
              "      <td>\\N</td>\n",
              "      <td>1</td>\n",
              "      <td>Short</td>\n",
              "      <td>7.4</td>\n",
              "      <td>12249</td>\n",
              "      <td>arrival train</td>\n",
              "      <td>0.0</td>\n",
              "      <td>0.0</td>\n",
              "      <td>1.0</td>\n",
              "      <td>0.0000</td>\n",
              "    </tr>\n",
              "    <tr>\n",
              "      <th>2</th>\n",
              "      <td>tt0000417</td>\n",
              "      <td>short</td>\n",
              "      <td>A Trip to the Moon</td>\n",
              "      <td>Le voyage dans la lune</td>\n",
              "      <td>0</td>\n",
              "      <td>1902</td>\n",
              "      <td>\\N</td>\n",
              "      <td>13</td>\n",
              "      <td>Action</td>\n",
              "      <td>8.2</td>\n",
              "      <td>52299</td>\n",
              "      <td>trip moon</td>\n",
              "      <td>0.0</td>\n",
              "      <td>0.0</td>\n",
              "      <td>1.0</td>\n",
              "      <td>0.0000</td>\n",
              "    </tr>\n",
              "    <tr>\n",
              "      <th>3</th>\n",
              "      <td>tt0000417</td>\n",
              "      <td>short</td>\n",
              "      <td>A Trip to the Moon</td>\n",
              "      <td>Le voyage dans la lune</td>\n",
              "      <td>0</td>\n",
              "      <td>1902</td>\n",
              "      <td>\\N</td>\n",
              "      <td>13</td>\n",
              "      <td>Adventure</td>\n",
              "      <td>8.2</td>\n",
              "      <td>52299</td>\n",
              "      <td>trip moon</td>\n",
              "      <td>0.0</td>\n",
              "      <td>0.0</td>\n",
              "      <td>1.0</td>\n",
              "      <td>0.0000</td>\n",
              "    </tr>\n",
              "    <tr>\n",
              "      <th>4</th>\n",
              "      <td>tt0000417</td>\n",
              "      <td>short</td>\n",
              "      <td>A Trip to the Moon</td>\n",
              "      <td>Le voyage dans la lune</td>\n",
              "      <td>0</td>\n",
              "      <td>1902</td>\n",
              "      <td>\\N</td>\n",
              "      <td>13</td>\n",
              "      <td>Comedy</td>\n",
              "      <td>8.2</td>\n",
              "      <td>52299</td>\n",
              "      <td>trip moon</td>\n",
              "      <td>0.0</td>\n",
              "      <td>0.0</td>\n",
              "      <td>1.0</td>\n",
              "      <td>0.0000</td>\n",
              "    </tr>\n",
              "    <tr>\n",
              "      <th>...</th>\n",
              "      <td>...</td>\n",
              "      <td>...</td>\n",
              "      <td>...</td>\n",
              "      <td>...</td>\n",
              "      <td>...</td>\n",
              "      <td>...</td>\n",
              "      <td>...</td>\n",
              "      <td>...</td>\n",
              "      <td>...</td>\n",
              "      <td>...</td>\n",
              "      <td>...</td>\n",
              "      <td>...</td>\n",
              "      <td>...</td>\n",
              "      <td>...</td>\n",
              "      <td>...</td>\n",
              "      <td>...</td>\n",
              "    </tr>\n",
              "    <tr>\n",
              "      <th>38809</th>\n",
              "      <td>tt9906260</td>\n",
              "      <td>tvEpisode</td>\n",
              "      <td>Hero</td>\n",
              "      <td>Hero</td>\n",
              "      <td>0</td>\n",
              "      <td>2019</td>\n",
              "      <td>\\N</td>\n",
              "      <td>24</td>\n",
              "      <td>Adventure</td>\n",
              "      <td>9.9</td>\n",
              "      <td>101599</td>\n",
              "      <td>hero</td>\n",
              "      <td>1.0</td>\n",
              "      <td>0.0</td>\n",
              "      <td>0.0</td>\n",
              "      <td>0.5574</td>\n",
              "    </tr>\n",
              "    <tr>\n",
              "      <th>38810</th>\n",
              "      <td>tt9906260</td>\n",
              "      <td>tvEpisode</td>\n",
              "      <td>Hero</td>\n",
              "      <td>Hero</td>\n",
              "      <td>0</td>\n",
              "      <td>2019</td>\n",
              "      <td>\\N</td>\n",
              "      <td>24</td>\n",
              "      <td>Animation</td>\n",
              "      <td>9.9</td>\n",
              "      <td>101599</td>\n",
              "      <td>hero</td>\n",
              "      <td>1.0</td>\n",
              "      <td>0.0</td>\n",
              "      <td>0.0</td>\n",
              "      <td>0.5574</td>\n",
              "    </tr>\n",
              "    <tr>\n",
              "      <th>38811</th>\n",
              "      <td>tt9907782</td>\n",
              "      <td>movie</td>\n",
              "      <td>The Cursed</td>\n",
              "      <td>Eight for Silver</td>\n",
              "      <td>0</td>\n",
              "      <td>2021</td>\n",
              "      <td>\\N</td>\n",
              "      <td>111</td>\n",
              "      <td>Fantasy</td>\n",
              "      <td>6.2</td>\n",
              "      <td>13060</td>\n",
              "      <td>cursed</td>\n",
              "      <td>0.0</td>\n",
              "      <td>0.0</td>\n",
              "      <td>1.0</td>\n",
              "      <td>0.0000</td>\n",
              "    </tr>\n",
              "    <tr>\n",
              "      <th>38812</th>\n",
              "      <td>tt9907782</td>\n",
              "      <td>movie</td>\n",
              "      <td>The Cursed</td>\n",
              "      <td>Eight for Silver</td>\n",
              "      <td>0</td>\n",
              "      <td>2021</td>\n",
              "      <td>\\N</td>\n",
              "      <td>111</td>\n",
              "      <td>Horror</td>\n",
              "      <td>6.2</td>\n",
              "      <td>13060</td>\n",
              "      <td>cursed</td>\n",
              "      <td>0.0</td>\n",
              "      <td>0.0</td>\n",
              "      <td>1.0</td>\n",
              "      <td>0.0000</td>\n",
              "    </tr>\n",
              "    <tr>\n",
              "      <th>38813</th>\n",
              "      <td>tt9907782</td>\n",
              "      <td>movie</td>\n",
              "      <td>The Cursed</td>\n",
              "      <td>Eight for Silver</td>\n",
              "      <td>0</td>\n",
              "      <td>2021</td>\n",
              "      <td>\\N</td>\n",
              "      <td>111</td>\n",
              "      <td>Mystery</td>\n",
              "      <td>6.2</td>\n",
              "      <td>13060</td>\n",
              "      <td>cursed</td>\n",
              "      <td>0.0</td>\n",
              "      <td>0.0</td>\n",
              "      <td>1.0</td>\n",
              "      <td>0.0000</td>\n",
              "    </tr>\n",
              "  </tbody>\n",
              "</table>\n",
              "<p>38813 rows × 16 columns</p>\n",
              "</div>\n",
              "      <button class=\"colab-df-convert\" onclick=\"convertToInteractive('df-86da666a-f0da-4c1c-a060-a770035047ad')\"\n",
              "              title=\"Convert this dataframe to an interactive table.\"\n",
              "              style=\"display:none;\">\n",
              "        \n",
              "  <svg xmlns=\"http://www.w3.org/2000/svg\" height=\"24px\"viewBox=\"0 0 24 24\"\n",
              "       width=\"24px\">\n",
              "    <path d=\"M0 0h24v24H0V0z\" fill=\"none\"/>\n",
              "    <path d=\"M18.56 5.44l.94 2.06.94-2.06 2.06-.94-2.06-.94-.94-2.06-.94 2.06-2.06.94zm-11 1L8.5 8.5l.94-2.06 2.06-.94-2.06-.94L8.5 2.5l-.94 2.06-2.06.94zm10 10l.94 2.06.94-2.06 2.06-.94-2.06-.94-.94-2.06-.94 2.06-2.06.94z\"/><path d=\"M17.41 7.96l-1.37-1.37c-.4-.4-.92-.59-1.43-.59-.52 0-1.04.2-1.43.59L10.3 9.45l-7.72 7.72c-.78.78-.78 2.05 0 2.83L4 21.41c.39.39.9.59 1.41.59.51 0 1.02-.2 1.41-.59l7.78-7.78 2.81-2.81c.8-.78.8-2.07 0-2.86zM5.41 20L4 18.59l7.72-7.72 1.47 1.35L5.41 20z\"/>\n",
              "  </svg>\n",
              "      </button>\n",
              "      \n",
              "  <style>\n",
              "    .colab-df-container {\n",
              "      display:flex;\n",
              "      flex-wrap:wrap;\n",
              "      gap: 12px;\n",
              "    }\n",
              "\n",
              "    .colab-df-convert {\n",
              "      background-color: #E8F0FE;\n",
              "      border: none;\n",
              "      border-radius: 50%;\n",
              "      cursor: pointer;\n",
              "      display: none;\n",
              "      fill: #1967D2;\n",
              "      height: 32px;\n",
              "      padding: 0 0 0 0;\n",
              "      width: 32px;\n",
              "    }\n",
              "\n",
              "    .colab-df-convert:hover {\n",
              "      background-color: #E2EBFA;\n",
              "      box-shadow: 0px 1px 2px rgba(60, 64, 67, 0.3), 0px 1px 3px 1px rgba(60, 64, 67, 0.15);\n",
              "      fill: #174EA6;\n",
              "    }\n",
              "\n",
              "    [theme=dark] .colab-df-convert {\n",
              "      background-color: #3B4455;\n",
              "      fill: #D2E3FC;\n",
              "    }\n",
              "\n",
              "    [theme=dark] .colab-df-convert:hover {\n",
              "      background-color: #434B5C;\n",
              "      box-shadow: 0px 1px 3px 1px rgba(0, 0, 0, 0.15);\n",
              "      filter: drop-shadow(0px 1px 2px rgba(0, 0, 0, 0.3));\n",
              "      fill: #FFFFFF;\n",
              "    }\n",
              "  </style>\n",
              "\n",
              "      <script>\n",
              "        const buttonEl =\n",
              "          document.querySelector('#df-86da666a-f0da-4c1c-a060-a770035047ad button.colab-df-convert');\n",
              "        buttonEl.style.display =\n",
              "          google.colab.kernel.accessAllowed ? 'block' : 'none';\n",
              "\n",
              "        async function convertToInteractive(key) {\n",
              "          const element = document.querySelector('#df-86da666a-f0da-4c1c-a060-a770035047ad');\n",
              "          const dataTable =\n",
              "            await google.colab.kernel.invokeFunction('convertToInteractive',\n",
              "                                                     [key], {});\n",
              "          if (!dataTable) return;\n",
              "\n",
              "          const docLinkHtml = 'Like what you see? Visit the ' +\n",
              "            '<a target=\"_blank\" href=https://colab.research.google.com/notebooks/data_table.ipynb>data table notebook</a>'\n",
              "            + ' to learn more about interactive tables.';\n",
              "          element.innerHTML = '';\n",
              "          dataTable['output_type'] = 'display_data';\n",
              "          await google.colab.output.renderOutput(dataTable, element);\n",
              "          const docLink = document.createElement('div');\n",
              "          docLink.innerHTML = docLinkHtml;\n",
              "          element.appendChild(docLink);\n",
              "        }\n",
              "      </script>\n",
              "    </div>\n",
              "  </div>\n",
              "  "
            ],
            "text/plain": [
              "          tconst  titleType            primaryTitle  \\\n",
              "0      tt0000012      short  The Arrival of a Train   \n",
              "1      tt0000012      short  The Arrival of a Train   \n",
              "2      tt0000417      short      A Trip to the Moon   \n",
              "3      tt0000417      short      A Trip to the Moon   \n",
              "4      tt0000417      short      A Trip to the Moon   \n",
              "...          ...        ...                     ...   \n",
              "38809  tt9906260  tvEpisode                    Hero   \n",
              "38810  tt9906260  tvEpisode                    Hero   \n",
              "38811  tt9907782      movie              The Cursed   \n",
              "38812  tt9907782      movie              The Cursed   \n",
              "38813  tt9907782      movie              The Cursed   \n",
              "\n",
              "                          originalTitle  isAdult  startYear endYear  \\\n",
              "0      L'arrivée d'un train à La Ciotat        0       1896      \\N   \n",
              "1      L'arrivée d'un train à La Ciotat        0       1896      \\N   \n",
              "2                Le voyage dans la lune        0       1902      \\N   \n",
              "3                Le voyage dans la lune        0       1902      \\N   \n",
              "4                Le voyage dans la lune        0       1902      \\N   \n",
              "...                                 ...      ...        ...     ...   \n",
              "38809                              Hero        0       2019      \\N   \n",
              "38810                              Hero        0       2019      \\N   \n",
              "38811                  Eight for Silver        0       2021      \\N   \n",
              "38812                  Eight for Silver        0       2021      \\N   \n",
              "38813                  Eight for Silver        0       2021      \\N   \n",
              "\n",
              "      runtimeMinutes       genres  averageRating  numVotes         Titles  \\\n",
              "0                  1  Documentary            7.4     12249  arrival train   \n",
              "1                  1        Short            7.4     12249  arrival train   \n",
              "2                 13       Action            8.2     52299      trip moon   \n",
              "3                 13    Adventure            8.2     52299      trip moon   \n",
              "4                 13       Comedy            8.2     52299      trip moon   \n",
              "...              ...          ...            ...       ...            ...   \n",
              "38809             24    Adventure            9.9    101599           hero   \n",
              "38810             24    Animation            9.9    101599           hero   \n",
              "38811            111      Fantasy            6.2     13060         cursed   \n",
              "38812            111       Horror            6.2     13060         cursed   \n",
              "38813            111      Mystery            6.2     13060         cursed   \n",
              "\n",
              "       pos  neg  neu  compound  \n",
              "0      0.0  0.0  1.0    0.0000  \n",
              "1      0.0  0.0  1.0    0.0000  \n",
              "2      0.0  0.0  1.0    0.0000  \n",
              "3      0.0  0.0  1.0    0.0000  \n",
              "4      0.0  0.0  1.0    0.0000  \n",
              "...    ...  ...  ...       ...  \n",
              "38809  1.0  0.0  0.0    0.5574  \n",
              "38810  1.0  0.0  0.0    0.5574  \n",
              "38811  0.0  0.0  1.0    0.0000  \n",
              "38812  0.0  0.0  1.0    0.0000  \n",
              "38813  0.0  0.0  1.0    0.0000  \n",
              "\n",
              "[38813 rows x 16 columns]"
            ]
          },
          "execution_count": 276,
          "metadata": {},
          "output_type": "execute_result"
        }
      ],
      "source": [
        "#genres without classification\n",
        "genres=genres[genres['genres']!=r'\\N']\n",
        "genres"
      ]
    },
    {
      "cell_type": "markdown",
      "metadata": {
        "id": "gR3DFkZOosCX"
      },
      "source": [
        "##Calculate rating for each rating"
      ]
    },
    {
      "cell_type": "code",
      "execution_count": null,
      "metadata": {
        "colab": {
          "background_save": true
        },
        "id": "kU93q1azmWd8",
        "outputId": "7bfe3058-b285-46f0-dd10-288cd89360e0"
      },
      "outputs": [
        {
          "data": {
            "text/html": [
              "\n",
              "  <div id=\"df-d9353c29-81ec-4485-a9cd-c4ce0fc57d00\">\n",
              "    <div class=\"colab-df-container\">\n",
              "      <div>\n",
              "<style scoped>\n",
              "    .dataframe tbody tr th:only-of-type {\n",
              "        vertical-align: middle;\n",
              "    }\n",
              "\n",
              "    .dataframe tbody tr th {\n",
              "        vertical-align: top;\n",
              "    }\n",
              "\n",
              "    .dataframe thead th {\n",
              "        text-align: right;\n",
              "    }\n",
              "</style>\n",
              "<table border=\"1\" class=\"dataframe\">\n",
              "  <thead>\n",
              "    <tr style=\"text-align: right;\">\n",
              "      <th></th>\n",
              "      <th>genre</th>\n",
              "      <th>count</th>\n",
              "    </tr>\n",
              "  </thead>\n",
              "  <tbody>\n",
              "    <tr>\n",
              "      <th>0</th>\n",
              "      <td>Drama</td>\n",
              "      <td>8643</td>\n",
              "    </tr>\n",
              "    <tr>\n",
              "      <th>1</th>\n",
              "      <td>Comedy</td>\n",
              "      <td>5125</td>\n",
              "    </tr>\n",
              "    <tr>\n",
              "      <th>2</th>\n",
              "      <td>Action</td>\n",
              "      <td>3842</td>\n",
              "    </tr>\n",
              "    <tr>\n",
              "      <th>3</th>\n",
              "      <td>Crime</td>\n",
              "      <td>3171</td>\n",
              "    </tr>\n",
              "    <tr>\n",
              "      <th>4</th>\n",
              "      <td>Adventure</td>\n",
              "      <td>2844</td>\n",
              "    </tr>\n",
              "    <tr>\n",
              "      <th>5</th>\n",
              "      <td>Thriller</td>\n",
              "      <td>2287</td>\n",
              "    </tr>\n",
              "    <tr>\n",
              "      <th>6</th>\n",
              "      <td>Romance</td>\n",
              "      <td>2145</td>\n",
              "    </tr>\n",
              "    <tr>\n",
              "      <th>7</th>\n",
              "      <td>Horror</td>\n",
              "      <td>1787</td>\n",
              "    </tr>\n",
              "    <tr>\n",
              "      <th>8</th>\n",
              "      <td>Mystery</td>\n",
              "      <td>1620</td>\n",
              "    </tr>\n",
              "    <tr>\n",
              "      <th>9</th>\n",
              "      <td>Animation</td>\n",
              "      <td>1188</td>\n",
              "    </tr>\n",
              "    <tr>\n",
              "      <th>10</th>\n",
              "      <td>Fantasy</td>\n",
              "      <td>1142</td>\n",
              "    </tr>\n",
              "    <tr>\n",
              "      <th>11</th>\n",
              "      <td>Sci-Fi</td>\n",
              "      <td>1016</td>\n",
              "    </tr>\n",
              "    <tr>\n",
              "      <th>12</th>\n",
              "      <td>Biography</td>\n",
              "      <td>845</td>\n",
              "    </tr>\n",
              "    <tr>\n",
              "      <th>13</th>\n",
              "      <td>Family</td>\n",
              "      <td>711</td>\n",
              "    </tr>\n",
              "    <tr>\n",
              "      <th>14</th>\n",
              "      <td>History</td>\n",
              "      <td>533</td>\n",
              "    </tr>\n",
              "    <tr>\n",
              "      <th>15</th>\n",
              "      <td>Music</td>\n",
              "      <td>406</td>\n",
              "    </tr>\n",
              "    <tr>\n",
              "      <th>16</th>\n",
              "      <td>Documentary</td>\n",
              "      <td>397</td>\n",
              "    </tr>\n",
              "    <tr>\n",
              "      <th>17</th>\n",
              "      <td>War</td>\n",
              "      <td>309</td>\n",
              "    </tr>\n",
              "    <tr>\n",
              "      <th>18</th>\n",
              "      <td>Sport</td>\n",
              "      <td>283</td>\n",
              "    </tr>\n",
              "    <tr>\n",
              "      <th>19</th>\n",
              "      <td>Musical</td>\n",
              "      <td>154</td>\n",
              "    </tr>\n",
              "    <tr>\n",
              "      <th>20</th>\n",
              "      <td>Western</td>\n",
              "      <td>133</td>\n",
              "    </tr>\n",
              "    <tr>\n",
              "      <th>21</th>\n",
              "      <td>Film-Noir</td>\n",
              "      <td>80</td>\n",
              "    </tr>\n",
              "    <tr>\n",
              "      <th>22</th>\n",
              "      <td>Short</td>\n",
              "      <td>58</td>\n",
              "    </tr>\n",
              "    <tr>\n",
              "      <th>23</th>\n",
              "      <td>Reality-TV</td>\n",
              "      <td>39</td>\n",
              "    </tr>\n",
              "    <tr>\n",
              "      <th>24</th>\n",
              "      <td>Talk-Show</td>\n",
              "      <td>26</td>\n",
              "    </tr>\n",
              "    <tr>\n",
              "      <th>25</th>\n",
              "      <td>Game-Show</td>\n",
              "      <td>17</td>\n",
              "    </tr>\n",
              "    <tr>\n",
              "      <th>26</th>\n",
              "      <td>News</td>\n",
              "      <td>11</td>\n",
              "    </tr>\n",
              "    <tr>\n",
              "      <th>27</th>\n",
              "      <td>Adult</td>\n",
              "      <td>1</td>\n",
              "    </tr>\n",
              "  </tbody>\n",
              "</table>\n",
              "</div>\n",
              "      <button class=\"colab-df-convert\" onclick=\"convertToInteractive('df-d9353c29-81ec-4485-a9cd-c4ce0fc57d00')\"\n",
              "              title=\"Convert this dataframe to an interactive table.\"\n",
              "              style=\"display:none;\">\n",
              "        \n",
              "  <svg xmlns=\"http://www.w3.org/2000/svg\" height=\"24px\"viewBox=\"0 0 24 24\"\n",
              "       width=\"24px\">\n",
              "    <path d=\"M0 0h24v24H0V0z\" fill=\"none\"/>\n",
              "    <path d=\"M18.56 5.44l.94 2.06.94-2.06 2.06-.94-2.06-.94-.94-2.06-.94 2.06-2.06.94zm-11 1L8.5 8.5l.94-2.06 2.06-.94-2.06-.94L8.5 2.5l-.94 2.06-2.06.94zm10 10l.94 2.06.94-2.06 2.06-.94-2.06-.94-.94-2.06-.94 2.06-2.06.94z\"/><path d=\"M17.41 7.96l-1.37-1.37c-.4-.4-.92-.59-1.43-.59-.52 0-1.04.2-1.43.59L10.3 9.45l-7.72 7.72c-.78.78-.78 2.05 0 2.83L4 21.41c.39.39.9.59 1.41.59.51 0 1.02-.2 1.41-.59l7.78-7.78 2.81-2.81c.8-.78.8-2.07 0-2.86zM5.41 20L4 18.59l7.72-7.72 1.47 1.35L5.41 20z\"/>\n",
              "  </svg>\n",
              "      </button>\n",
              "      \n",
              "  <style>\n",
              "    .colab-df-container {\n",
              "      display:flex;\n",
              "      flex-wrap:wrap;\n",
              "      gap: 12px;\n",
              "    }\n",
              "\n",
              "    .colab-df-convert {\n",
              "      background-color: #E8F0FE;\n",
              "      border: none;\n",
              "      border-radius: 50%;\n",
              "      cursor: pointer;\n",
              "      display: none;\n",
              "      fill: #1967D2;\n",
              "      height: 32px;\n",
              "      padding: 0 0 0 0;\n",
              "      width: 32px;\n",
              "    }\n",
              "\n",
              "    .colab-df-convert:hover {\n",
              "      background-color: #E2EBFA;\n",
              "      box-shadow: 0px 1px 2px rgba(60, 64, 67, 0.3), 0px 1px 3px 1px rgba(60, 64, 67, 0.15);\n",
              "      fill: #174EA6;\n",
              "    }\n",
              "\n",
              "    [theme=dark] .colab-df-convert {\n",
              "      background-color: #3B4455;\n",
              "      fill: #D2E3FC;\n",
              "    }\n",
              "\n",
              "    [theme=dark] .colab-df-convert:hover {\n",
              "      background-color: #434B5C;\n",
              "      box-shadow: 0px 1px 3px 1px rgba(0, 0, 0, 0.15);\n",
              "      filter: drop-shadow(0px 1px 2px rgba(0, 0, 0, 0.3));\n",
              "      fill: #FFFFFF;\n",
              "    }\n",
              "  </style>\n",
              "\n",
              "      <script>\n",
              "        const buttonEl =\n",
              "          document.querySelector('#df-d9353c29-81ec-4485-a9cd-c4ce0fc57d00 button.colab-df-convert');\n",
              "        buttonEl.style.display =\n",
              "          google.colab.kernel.accessAllowed ? 'block' : 'none';\n",
              "\n",
              "        async function convertToInteractive(key) {\n",
              "          const element = document.querySelector('#df-d9353c29-81ec-4485-a9cd-c4ce0fc57d00');\n",
              "          const dataTable =\n",
              "            await google.colab.kernel.invokeFunction('convertToInteractive',\n",
              "                                                     [key], {});\n",
              "          if (!dataTable) return;\n",
              "\n",
              "          const docLinkHtml = 'Like what you see? Visit the ' +\n",
              "            '<a target=\"_blank\" href=https://colab.research.google.com/notebooks/data_table.ipynb>data table notebook</a>'\n",
              "            + ' to learn more about interactive tables.';\n",
              "          element.innerHTML = '';\n",
              "          dataTable['output_type'] = 'display_data';\n",
              "          await google.colab.output.renderOutput(dataTable, element);\n",
              "          const docLink = document.createElement('div');\n",
              "          docLink.innerHTML = docLinkHtml;\n",
              "          element.appendChild(docLink);\n",
              "        }\n",
              "      </script>\n",
              "    </div>\n",
              "  </div>\n",
              "  "
            ],
            "text/plain": [
              "          genre  count\n",
              "0         Drama   8643\n",
              "1        Comedy   5125\n",
              "2        Action   3842\n",
              "3         Crime   3171\n",
              "4     Adventure   2844\n",
              "5      Thriller   2287\n",
              "6       Romance   2145\n",
              "7        Horror   1787\n",
              "8       Mystery   1620\n",
              "9     Animation   1188\n",
              "10      Fantasy   1142\n",
              "11       Sci-Fi   1016\n",
              "12    Biography    845\n",
              "13       Family    711\n",
              "14      History    533\n",
              "15        Music    406\n",
              "16  Documentary    397\n",
              "17          War    309\n",
              "18        Sport    283\n",
              "19      Musical    154\n",
              "20      Western    133\n",
              "21    Film-Noir     80\n",
              "22        Short     58\n",
              "23   Reality-TV     39\n",
              "24    Talk-Show     26\n",
              "25    Game-Show     17\n",
              "26         News     11\n",
              "27        Adult      1"
            ]
          },
          "execution_count": 277,
          "metadata": {},
          "output_type": "execute_result"
        }
      ],
      "source": [
        "genres_df=genres['genres'].value_counts().reset_index()\n",
        "genres_df.rename(columns={'index':'genre', 'genres':'count'}, inplace=True)\n",
        "genres_df"
      ]
    },
    {
      "cell_type": "code",
      "execution_count": null,
      "metadata": {
        "colab": {
          "background_save": true
        },
        "id": "dUN4nztgm9Q2",
        "outputId": "5e770186-8094-4c18-84eb-d2be2604ec3a"
      },
      "outputs": [
        {
          "data": {
            "text/html": [
              "\n",
              "  <div id=\"df-59ff77fb-c44f-4cef-b490-3332df017163\">\n",
              "    <div class=\"colab-df-container\">\n",
              "      <div>\n",
              "<style scoped>\n",
              "    .dataframe tbody tr th:only-of-type {\n",
              "        vertical-align: middle;\n",
              "    }\n",
              "\n",
              "    .dataframe tbody tr th {\n",
              "        vertical-align: top;\n",
              "    }\n",
              "\n",
              "    .dataframe thead th {\n",
              "        text-align: right;\n",
              "    }\n",
              "</style>\n",
              "<table border=\"1\" class=\"dataframe\">\n",
              "  <thead>\n",
              "    <tr style=\"text-align: right;\">\n",
              "      <th></th>\n",
              "      <th>genre</th>\n",
              "      <th>count</th>\n",
              "      <th>Count_Rating</th>\n",
              "    </tr>\n",
              "  </thead>\n",
              "  <tbody>\n",
              "    <tr>\n",
              "      <th>0</th>\n",
              "      <td>Drama</td>\n",
              "      <td>8643</td>\n",
              "      <td>7.5</td>\n",
              "    </tr>\n",
              "    <tr>\n",
              "      <th>1</th>\n",
              "      <td>Comedy</td>\n",
              "      <td>5125</td>\n",
              "      <td>7.0</td>\n",
              "    </tr>\n",
              "    <tr>\n",
              "      <th>2</th>\n",
              "      <td>Action</td>\n",
              "      <td>3842</td>\n",
              "      <td>7.1</td>\n",
              "    </tr>\n",
              "    <tr>\n",
              "      <th>3</th>\n",
              "      <td>Crime</td>\n",
              "      <td>3171</td>\n",
              "      <td>7.4</td>\n",
              "    </tr>\n",
              "    <tr>\n",
              "      <th>4</th>\n",
              "      <td>Adventure</td>\n",
              "      <td>2844</td>\n",
              "      <td>7.3</td>\n",
              "    </tr>\n",
              "    <tr>\n",
              "      <th>5</th>\n",
              "      <td>Thriller</td>\n",
              "      <td>2287</td>\n",
              "      <td>7.1</td>\n",
              "    </tr>\n",
              "    <tr>\n",
              "      <th>6</th>\n",
              "      <td>Romance</td>\n",
              "      <td>2145</td>\n",
              "      <td>7.0</td>\n",
              "    </tr>\n",
              "    <tr>\n",
              "      <th>7</th>\n",
              "      <td>Horror</td>\n",
              "      <td>1787</td>\n",
              "      <td>6.7</td>\n",
              "    </tr>\n",
              "    <tr>\n",
              "      <th>8</th>\n",
              "      <td>Mystery</td>\n",
              "      <td>1620</td>\n",
              "      <td>7.2</td>\n",
              "    </tr>\n",
              "    <tr>\n",
              "      <th>9</th>\n",
              "      <td>Animation</td>\n",
              "      <td>1188</td>\n",
              "      <td>7.6</td>\n",
              "    </tr>\n",
              "    <tr>\n",
              "      <th>10</th>\n",
              "      <td>Fantasy</td>\n",
              "      <td>1142</td>\n",
              "      <td>7.1</td>\n",
              "    </tr>\n",
              "    <tr>\n",
              "      <th>11</th>\n",
              "      <td>Sci-Fi</td>\n",
              "      <td>1016</td>\n",
              "      <td>7.1</td>\n",
              "    </tr>\n",
              "    <tr>\n",
              "      <th>12</th>\n",
              "      <td>Biography</td>\n",
              "      <td>845</td>\n",
              "      <td>7.6</td>\n",
              "    </tr>\n",
              "    <tr>\n",
              "      <th>13</th>\n",
              "      <td>Family</td>\n",
              "      <td>711</td>\n",
              "      <td>7.0</td>\n",
              "    </tr>\n",
              "    <tr>\n",
              "      <th>14</th>\n",
              "      <td>History</td>\n",
              "      <td>533</td>\n",
              "      <td>7.7</td>\n",
              "    </tr>\n",
              "    <tr>\n",
              "      <th>15</th>\n",
              "      <td>Music</td>\n",
              "      <td>406</td>\n",
              "      <td>7.2</td>\n",
              "    </tr>\n",
              "    <tr>\n",
              "      <th>16</th>\n",
              "      <td>Documentary</td>\n",
              "      <td>397</td>\n",
              "      <td>7.8</td>\n",
              "    </tr>\n",
              "    <tr>\n",
              "      <th>17</th>\n",
              "      <td>War</td>\n",
              "      <td>309</td>\n",
              "      <td>7.8</td>\n",
              "    </tr>\n",
              "    <tr>\n",
              "      <th>18</th>\n",
              "      <td>Sport</td>\n",
              "      <td>283</td>\n",
              "      <td>7.1</td>\n",
              "    </tr>\n",
              "    <tr>\n",
              "      <th>19</th>\n",
              "      <td>Musical</td>\n",
              "      <td>154</td>\n",
              "      <td>7.1</td>\n",
              "    </tr>\n",
              "    <tr>\n",
              "      <th>20</th>\n",
              "      <td>Western</td>\n",
              "      <td>133</td>\n",
              "      <td>7.6</td>\n",
              "    </tr>\n",
              "    <tr>\n",
              "      <th>21</th>\n",
              "      <td>Film-Noir</td>\n",
              "      <td>80</td>\n",
              "      <td>7.9</td>\n",
              "    </tr>\n",
              "    <tr>\n",
              "      <th>22</th>\n",
              "      <td>Short</td>\n",
              "      <td>58</td>\n",
              "      <td>7.5</td>\n",
              "    </tr>\n",
              "    <tr>\n",
              "      <th>23</th>\n",
              "      <td>Reality-TV</td>\n",
              "      <td>39</td>\n",
              "      <td>6.9</td>\n",
              "    </tr>\n",
              "    <tr>\n",
              "      <th>24</th>\n",
              "      <td>Talk-Show</td>\n",
              "      <td>26</td>\n",
              "      <td>8.0</td>\n",
              "    </tr>\n",
              "    <tr>\n",
              "      <th>25</th>\n",
              "      <td>Game-Show</td>\n",
              "      <td>17</td>\n",
              "      <td>7.7</td>\n",
              "    </tr>\n",
              "    <tr>\n",
              "      <th>26</th>\n",
              "      <td>News</td>\n",
              "      <td>11</td>\n",
              "      <td>8.1</td>\n",
              "    </tr>\n",
              "    <tr>\n",
              "      <th>27</th>\n",
              "      <td>Adult</td>\n",
              "      <td>1</td>\n",
              "      <td>5.0</td>\n",
              "    </tr>\n",
              "  </tbody>\n",
              "</table>\n",
              "</div>\n",
              "      <button class=\"colab-df-convert\" onclick=\"convertToInteractive('df-59ff77fb-c44f-4cef-b490-3332df017163')\"\n",
              "              title=\"Convert this dataframe to an interactive table.\"\n",
              "              style=\"display:none;\">\n",
              "        \n",
              "  <svg xmlns=\"http://www.w3.org/2000/svg\" height=\"24px\"viewBox=\"0 0 24 24\"\n",
              "       width=\"24px\">\n",
              "    <path d=\"M0 0h24v24H0V0z\" fill=\"none\"/>\n",
              "    <path d=\"M18.56 5.44l.94 2.06.94-2.06 2.06-.94-2.06-.94-.94-2.06-.94 2.06-2.06.94zm-11 1L8.5 8.5l.94-2.06 2.06-.94-2.06-.94L8.5 2.5l-.94 2.06-2.06.94zm10 10l.94 2.06.94-2.06 2.06-.94-2.06-.94-.94-2.06-.94 2.06-2.06.94z\"/><path d=\"M17.41 7.96l-1.37-1.37c-.4-.4-.92-.59-1.43-.59-.52 0-1.04.2-1.43.59L10.3 9.45l-7.72 7.72c-.78.78-.78 2.05 0 2.83L4 21.41c.39.39.9.59 1.41.59.51 0 1.02-.2 1.41-.59l7.78-7.78 2.81-2.81c.8-.78.8-2.07 0-2.86zM5.41 20L4 18.59l7.72-7.72 1.47 1.35L5.41 20z\"/>\n",
              "  </svg>\n",
              "      </button>\n",
              "      \n",
              "  <style>\n",
              "    .colab-df-container {\n",
              "      display:flex;\n",
              "      flex-wrap:wrap;\n",
              "      gap: 12px;\n",
              "    }\n",
              "\n",
              "    .colab-df-convert {\n",
              "      background-color: #E8F0FE;\n",
              "      border: none;\n",
              "      border-radius: 50%;\n",
              "      cursor: pointer;\n",
              "      display: none;\n",
              "      fill: #1967D2;\n",
              "      height: 32px;\n",
              "      padding: 0 0 0 0;\n",
              "      width: 32px;\n",
              "    }\n",
              "\n",
              "    .colab-df-convert:hover {\n",
              "      background-color: #E2EBFA;\n",
              "      box-shadow: 0px 1px 2px rgba(60, 64, 67, 0.3), 0px 1px 3px 1px rgba(60, 64, 67, 0.15);\n",
              "      fill: #174EA6;\n",
              "    }\n",
              "\n",
              "    [theme=dark] .colab-df-convert {\n",
              "      background-color: #3B4455;\n",
              "      fill: #D2E3FC;\n",
              "    }\n",
              "\n",
              "    [theme=dark] .colab-df-convert:hover {\n",
              "      background-color: #434B5C;\n",
              "      box-shadow: 0px 1px 3px 1px rgba(0, 0, 0, 0.15);\n",
              "      filter: drop-shadow(0px 1px 2px rgba(0, 0, 0, 0.3));\n",
              "      fill: #FFFFFF;\n",
              "    }\n",
              "  </style>\n",
              "\n",
              "      <script>\n",
              "        const buttonEl =\n",
              "          document.querySelector('#df-59ff77fb-c44f-4cef-b490-3332df017163 button.colab-df-convert');\n",
              "        buttonEl.style.display =\n",
              "          google.colab.kernel.accessAllowed ? 'block' : 'none';\n",
              "\n",
              "        async function convertToInteractive(key) {\n",
              "          const element = document.querySelector('#df-59ff77fb-c44f-4cef-b490-3332df017163');\n",
              "          const dataTable =\n",
              "            await google.colab.kernel.invokeFunction('convertToInteractive',\n",
              "                                                     [key], {});\n",
              "          if (!dataTable) return;\n",
              "\n",
              "          const docLinkHtml = 'Like what you see? Visit the ' +\n",
              "            '<a target=\"_blank\" href=https://colab.research.google.com/notebooks/data_table.ipynb>data table notebook</a>'\n",
              "            + ' to learn more about interactive tables.';\n",
              "          element.innerHTML = '';\n",
              "          dataTable['output_type'] = 'display_data';\n",
              "          await google.colab.output.renderOutput(dataTable, element);\n",
              "          const docLink = document.createElement('div');\n",
              "          docLink.innerHTML = docLinkHtml;\n",
              "          element.appendChild(docLink);\n",
              "        }\n",
              "      </script>\n",
              "    </div>\n",
              "  </div>\n",
              "  "
            ],
            "text/plain": [
              "          genre  count  Count_Rating\n",
              "0         Drama   8643           7.5\n",
              "1        Comedy   5125           7.0\n",
              "2        Action   3842           7.1\n",
              "3         Crime   3171           7.4\n",
              "4     Adventure   2844           7.3\n",
              "5      Thriller   2287           7.1\n",
              "6       Romance   2145           7.0\n",
              "7        Horror   1787           6.7\n",
              "8       Mystery   1620           7.2\n",
              "9     Animation   1188           7.6\n",
              "10      Fantasy   1142           7.1\n",
              "11       Sci-Fi   1016           7.1\n",
              "12    Biography    845           7.6\n",
              "13       Family    711           7.0\n",
              "14      History    533           7.7\n",
              "15        Music    406           7.2\n",
              "16  Documentary    397           7.8\n",
              "17          War    309           7.8\n",
              "18        Sport    283           7.1\n",
              "19      Musical    154           7.1\n",
              "20      Western    133           7.6\n",
              "21    Film-Noir     80           7.9\n",
              "22        Short     58           7.5\n",
              "23   Reality-TV     39           6.9\n",
              "24    Talk-Show     26           8.0\n",
              "25    Game-Show     17           7.7\n",
              "26         News     11           8.1\n",
              "27        Adult      1           5.0"
            ]
          },
          "execution_count": 278,
          "metadata": {},
          "output_type": "execute_result"
        }
      ],
      "source": [
        "def rating_category(general_df):\n",
        "  #print(general_df.shape)\n",
        "  return (general_df['averageRating']*general_df['numVotes']).sum()/general_df['numVotes'].sum()\n",
        "\n",
        "\n",
        "genres_df['Count_Rating']=genres_df['genre'].apply(lambda g:rating_category(genres[genres['genres']==g]))\n",
        "genres_df=genres_df.round({'Count_Rating':1})\n",
        "genres_df"
      ]
    },
    {
      "cell_type": "code",
      "execution_count": null,
      "metadata": {
        "colab": {
          "background_save": true
        },
        "id": "mXYbUSeSvL2f"
      },
      "outputs": [],
      "source": [
        "genres_df.to_csv('genres_analysis.csv', index=False)"
      ]
    },
    {
      "cell_type": "markdown",
      "metadata": {
        "id": "GInPkoH-o_-4"
      },
      "source": [
        "Grab all words of titles per each category\n",
        "\n",
        "Do the sentiment analysis per each category\n",
        "\n",
        "What are the most common words per genre"
      ]
    },
    {
      "cell_type": "code",
      "execution_count": null,
      "metadata": {
        "colab": {
          "background_save": true
        },
        "id": "1ohf0j52sAgk",
        "outputId": "5682fa8f-e09d-4585-c057-e3454f845ac1"
      },
      "outputs": [
        {
          "ename": "TypeError",
          "evalue": "ignored",
          "output_type": "error",
          "traceback": [
            "\u001b[0;31m---------------------------------------------------------------------------\u001b[0m",
            "\u001b[0;31mTypeError\u001b[0m                                 Traceback (most recent call last)",
            "\u001b[0;32m<ipython-input-280-e102ed4a2c2c>\u001b[0m in \u001b[0;36m<cell line: 4>\u001b[0;34m()\u001b[0m\n\u001b[1;32m      2\u001b[0m   \u001b[0;32mreturn\u001b[0m \u001b[0mlist\u001b[0m\u001b[0;34m(\u001b[0m\u001b[0mgenres\u001b[0m\u001b[0;34m[\u001b[0m\u001b[0;34m'Titles'\u001b[0m\u001b[0;34m]\u001b[0m\u001b[0;34m)\u001b[0m\u001b[0;34m\u001b[0m\u001b[0;34m\u001b[0m\u001b[0m\n\u001b[1;32m      3\u001b[0m \u001b[0;34m\u001b[0m\u001b[0m\n\u001b[0;32m----> 4\u001b[0;31m \u001b[0mgenres_df\u001b[0m\u001b[0;34m[\u001b[0m\u001b[0;34m'words of titles'\u001b[0m\u001b[0;34m]\u001b[0m\u001b[0;34m=\u001b[0m\u001b[0mgenres_df\u001b[0m\u001b[0;34m[\u001b[0m\u001b[0;34m'genre'\u001b[0m\u001b[0;34m]\u001b[0m\u001b[0;34m.\u001b[0m\u001b[0mapply\u001b[0m\u001b[0;34m(\u001b[0m\u001b[0;32mlambda\u001b[0m \u001b[0mg\u001b[0m\u001b[0;34m:\u001b[0m\u001b[0mtitles_genre\u001b[0m\u001b[0;34m(\u001b[0m\u001b[0mgenres\u001b[0m\u001b[0;34m[\u001b[0m\u001b[0;34m(\u001b[0m\u001b[0mgenres\u001b[0m\u001b[0;34m[\u001b[0m\u001b[0;34m'genres'\u001b[0m\u001b[0;34m]\u001b[0m\u001b[0;34m==\u001b[0m\u001b[0mg\u001b[0m\u001b[0;34m[\u001b[0m\u001b[0;34m'genre'\u001b[0m\u001b[0;34m]\u001b[0m\u001b[0;34m)\u001b[0m\u001b[0;34m]\u001b[0m\u001b[0;34m[\u001b[0m\u001b[0;34m'Titles'\u001b[0m\u001b[0;34m]\u001b[0m\u001b[0;34m)\u001b[0m\u001b[0;34m)\u001b[0m\u001b[0;31m#, axis=1)\u001b[0m\u001b[0;34m\u001b[0m\u001b[0;34m\u001b[0m\u001b[0m\n\u001b[0m\u001b[1;32m      5\u001b[0m \u001b[0;34m\u001b[0m\u001b[0m\n\u001b[1;32m      6\u001b[0m   \u001b[0;31m#return (general_df['averageRating']*general_df['numVotes']).sum()/general_df['numVotes'].sum()\u001b[0m\u001b[0;34m\u001b[0m\u001b[0;34m\u001b[0m\u001b[0m\n",
            "\u001b[0;32m/usr/local/lib/python3.10/dist-packages/pandas/core/series.py\u001b[0m in \u001b[0;36mapply\u001b[0;34m(self, func, convert_dtype, args, **kwargs)\u001b[0m\n\u001b[1;32m   4769\u001b[0m         \u001b[0mdtype\u001b[0m\u001b[0;34m:\u001b[0m \u001b[0mfloat64\u001b[0m\u001b[0;34m\u001b[0m\u001b[0;34m\u001b[0m\u001b[0m\n\u001b[1;32m   4770\u001b[0m         \"\"\"\n\u001b[0;32m-> 4771\u001b[0;31m         \u001b[0;32mreturn\u001b[0m \u001b[0mSeriesApply\u001b[0m\u001b[0;34m(\u001b[0m\u001b[0mself\u001b[0m\u001b[0;34m,\u001b[0m \u001b[0mfunc\u001b[0m\u001b[0;34m,\u001b[0m \u001b[0mconvert_dtype\u001b[0m\u001b[0;34m,\u001b[0m \u001b[0margs\u001b[0m\u001b[0;34m,\u001b[0m \u001b[0mkwargs\u001b[0m\u001b[0;34m)\u001b[0m\u001b[0;34m.\u001b[0m\u001b[0mapply\u001b[0m\u001b[0;34m(\u001b[0m\u001b[0;34m)\u001b[0m\u001b[0;34m\u001b[0m\u001b[0;34m\u001b[0m\u001b[0m\n\u001b[0m\u001b[1;32m   4772\u001b[0m \u001b[0;34m\u001b[0m\u001b[0m\n\u001b[1;32m   4773\u001b[0m     def _reduce(\n",
            "\u001b[0;32m/usr/local/lib/python3.10/dist-packages/pandas/core/apply.py\u001b[0m in \u001b[0;36mapply\u001b[0;34m(self)\u001b[0m\n\u001b[1;32m   1121\u001b[0m \u001b[0;34m\u001b[0m\u001b[0m\n\u001b[1;32m   1122\u001b[0m         \u001b[0;31m# self.f is Callable\u001b[0m\u001b[0;34m\u001b[0m\u001b[0;34m\u001b[0m\u001b[0m\n\u001b[0;32m-> 1123\u001b[0;31m         \u001b[0;32mreturn\u001b[0m \u001b[0mself\u001b[0m\u001b[0;34m.\u001b[0m\u001b[0mapply_standard\u001b[0m\u001b[0;34m(\u001b[0m\u001b[0;34m)\u001b[0m\u001b[0;34m\u001b[0m\u001b[0;34m\u001b[0m\u001b[0m\n\u001b[0m\u001b[1;32m   1124\u001b[0m \u001b[0;34m\u001b[0m\u001b[0m\n\u001b[1;32m   1125\u001b[0m     \u001b[0;32mdef\u001b[0m \u001b[0magg\u001b[0m\u001b[0;34m(\u001b[0m\u001b[0mself\u001b[0m\u001b[0;34m)\u001b[0m\u001b[0;34m:\u001b[0m\u001b[0;34m\u001b[0m\u001b[0;34m\u001b[0m\u001b[0m\n",
            "\u001b[0;32m/usr/local/lib/python3.10/dist-packages/pandas/core/apply.py\u001b[0m in \u001b[0;36mapply_standard\u001b[0;34m(self)\u001b[0m\n\u001b[1;32m   1172\u001b[0m             \u001b[0;32melse\u001b[0m\u001b[0;34m:\u001b[0m\u001b[0;34m\u001b[0m\u001b[0;34m\u001b[0m\u001b[0m\n\u001b[1;32m   1173\u001b[0m                 \u001b[0mvalues\u001b[0m \u001b[0;34m=\u001b[0m \u001b[0mobj\u001b[0m\u001b[0;34m.\u001b[0m\u001b[0mastype\u001b[0m\u001b[0;34m(\u001b[0m\u001b[0mobject\u001b[0m\u001b[0;34m)\u001b[0m\u001b[0;34m.\u001b[0m\u001b[0m_values\u001b[0m\u001b[0;34m\u001b[0m\u001b[0;34m\u001b[0m\u001b[0m\n\u001b[0;32m-> 1174\u001b[0;31m                 mapped = lib.map_infer(\n\u001b[0m\u001b[1;32m   1175\u001b[0m                     \u001b[0mvalues\u001b[0m\u001b[0;34m,\u001b[0m\u001b[0;34m\u001b[0m\u001b[0;34m\u001b[0m\u001b[0m\n\u001b[1;32m   1176\u001b[0m                     \u001b[0mf\u001b[0m\u001b[0;34m,\u001b[0m\u001b[0;34m\u001b[0m\u001b[0;34m\u001b[0m\u001b[0m\n",
            "\u001b[0;32m/usr/local/lib/python3.10/dist-packages/pandas/_libs/lib.pyx\u001b[0m in \u001b[0;36mpandas._libs.lib.map_infer\u001b[0;34m()\u001b[0m\n",
            "\u001b[0;32m<ipython-input-280-e102ed4a2c2c>\u001b[0m in \u001b[0;36m<lambda>\u001b[0;34m(g)\u001b[0m\n\u001b[1;32m      2\u001b[0m   \u001b[0;32mreturn\u001b[0m \u001b[0mlist\u001b[0m\u001b[0;34m(\u001b[0m\u001b[0mgenres\u001b[0m\u001b[0;34m[\u001b[0m\u001b[0;34m'Titles'\u001b[0m\u001b[0;34m]\u001b[0m\u001b[0;34m)\u001b[0m\u001b[0;34m\u001b[0m\u001b[0;34m\u001b[0m\u001b[0m\n\u001b[1;32m      3\u001b[0m \u001b[0;34m\u001b[0m\u001b[0m\n\u001b[0;32m----> 4\u001b[0;31m \u001b[0mgenres_df\u001b[0m\u001b[0;34m[\u001b[0m\u001b[0;34m'words of titles'\u001b[0m\u001b[0;34m]\u001b[0m\u001b[0;34m=\u001b[0m\u001b[0mgenres_df\u001b[0m\u001b[0;34m[\u001b[0m\u001b[0;34m'genre'\u001b[0m\u001b[0;34m]\u001b[0m\u001b[0;34m.\u001b[0m\u001b[0mapply\u001b[0m\u001b[0;34m(\u001b[0m\u001b[0;32mlambda\u001b[0m \u001b[0mg\u001b[0m\u001b[0;34m:\u001b[0m\u001b[0mtitles_genre\u001b[0m\u001b[0;34m(\u001b[0m\u001b[0mgenres\u001b[0m\u001b[0;34m[\u001b[0m\u001b[0;34m(\u001b[0m\u001b[0mgenres\u001b[0m\u001b[0;34m[\u001b[0m\u001b[0;34m'genres'\u001b[0m\u001b[0;34m]\u001b[0m\u001b[0;34m==\u001b[0m\u001b[0mg\u001b[0m\u001b[0;34m[\u001b[0m\u001b[0;34m'genre'\u001b[0m\u001b[0;34m]\u001b[0m\u001b[0;34m)\u001b[0m\u001b[0;34m]\u001b[0m\u001b[0;34m[\u001b[0m\u001b[0;34m'Titles'\u001b[0m\u001b[0;34m]\u001b[0m\u001b[0;34m)\u001b[0m\u001b[0;34m)\u001b[0m\u001b[0;31m#, axis=1)\u001b[0m\u001b[0;34m\u001b[0m\u001b[0;34m\u001b[0m\u001b[0m\n\u001b[0m\u001b[1;32m      5\u001b[0m \u001b[0;34m\u001b[0m\u001b[0m\n\u001b[1;32m      6\u001b[0m   \u001b[0;31m#return (general_df['averageRating']*general_df['numVotes']).sum()/general_df['numVotes'].sum()\u001b[0m\u001b[0;34m\u001b[0m\u001b[0;34m\u001b[0m\u001b[0m\n",
            "\u001b[0;31mTypeError\u001b[0m: string indices must be integers"
          ]
        }
      ],
      "source": [
        "def titles_genre(words):\n",
        "  return list(genres['Titles'])\n",
        "\n",
        "genres_df['words of titles']=genres_df['genre'].apply(lambda g:titles_genre(genres[(genres['genres']==g['genre'])]['Titles']))#, axis=1)\n",
        "\n",
        "  #return (general_df['averageRating']*general_df['numVotes']).sum()/general_df['numVotes'].sum()"
      ]
    },
    {
      "cell_type": "code",
      "execution_count": null,
      "metadata": {
        "colab": {
          "background_save": true
        },
        "id": "z7p4BN9Rsee0"
      },
      "outputs": [],
      "source": [
        "#genres[genres['genres']=='Comedy']\n",
        "genres_df['words of titles']= genres_df.groupby('genre').agg(genres['Titles'].tolist)\n"
      ]
    },
    {
      "cell_type": "code",
      "execution_count": null,
      "metadata": {
        "colab": {
          "background_save": true
        },
        "id": "M9rluUY_sAV7"
      },
      "outputs": [],
      "source": []
    },
    {
      "cell_type": "code",
      "execution_count": null,
      "metadata": {
        "colab": {
          "background_save": true
        },
        "id": "Qm2q4YlRo-mS"
      },
      "outputs": [],
      "source": [
        "#genres_df.to_csv('genres_rating.csv', index=False)"
      ]
    }
  ],
  "metadata": {
    "colab": {
      "collapsed_sections": [
        "etl7lpD4C9eE",
        "FYfI8Nd6_TN1",
        "z8y_llqSsFTR",
        "qToankIeuqbE",
        "a2cnl__NuvqF"
      ],
      "toc_visible": true,
      "provenance": []
    },
    "kernelspec": {
      "display_name": "Python 3",
      "name": "python3"
    },
    "language_info": {
      "name": "python"
    }
  },
  "nbformat": 4,
  "nbformat_minor": 0
}